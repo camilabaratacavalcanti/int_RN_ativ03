{
 "cells": [
  {
   "cell_type": "markdown",
   "metadata": {},
   "source": [
    "# Introdução a Redes Neurais\n",
    "## Atividade 03\n",
    "#### Desenvolver modelos para um sistema de compressão de unidade estacionárias de produção de petróleo\n",
    "##### Parte 03"
   ]
  },
  {
   "cell_type": "markdown",
   "metadata": {},
   "source": [
    "Import das bibliotecas"
   ]
  },
  {
   "cell_type": "code",
   "execution_count": 1,
   "metadata": {},
   "outputs": [],
   "source": [
    "import numpy as np\n",
    "import pandas as pd\n",
    "import matplotlib.pyplot as plt\n",
    "from statsmodels.graphics.tsaplots import plot_pacf, plot_acf"
   ]
  },
  {
   "cell_type": "markdown",
   "metadata": {},
   "source": [
    "### Modelo RNN"
   ]
  },
  {
   "cell_type": "markdown",
   "metadata": {},
   "source": [
    "Conjunto de dados de pressão de sucção contida no arquivo pressao_succao_c2.csv:"
   ]
  },
  {
   "cell_type": "code",
   "execution_count": 2,
   "metadata": {},
   "outputs": [
    {
     "data": {
      "text/html": [
       "<div>\n",
       "<style scoped>\n",
       "    .dataframe tbody tr th:only-of-type {\n",
       "        vertical-align: middle;\n",
       "    }\n",
       "\n",
       "    .dataframe tbody tr th {\n",
       "        vertical-align: top;\n",
       "    }\n",
       "\n",
       "    .dataframe thead th {\n",
       "        text-align: right;\n",
       "    }\n",
       "</style>\n",
       "<table border=\"1\" class=\"dataframe\">\n",
       "  <thead>\n",
       "    <tr style=\"text-align: right;\">\n",
       "      <th></th>\n",
       "      <th>Press</th>\n",
       "    </tr>\n",
       "    <tr>\n",
       "      <th>N</th>\n",
       "      <th></th>\n",
       "    </tr>\n",
       "  </thead>\n",
       "  <tbody>\n",
       "    <tr>\n",
       "      <th>2000-01-01</th>\n",
       "      <td>0.014555</td>\n",
       "    </tr>\n",
       "    <tr>\n",
       "      <th>2000-01-02</th>\n",
       "      <td>0.245910</td>\n",
       "    </tr>\n",
       "    <tr>\n",
       "      <th>2000-01-03</th>\n",
       "      <td>0.555520</td>\n",
       "    </tr>\n",
       "  </tbody>\n",
       "</table>\n",
       "</div>"
      ],
      "text/plain": [
       "               Press\n",
       "N                   \n",
       "2000-01-01  0.014555\n",
       "2000-01-02  0.245910\n",
       "2000-01-03  0.555520"
      ]
     },
     "execution_count": 2,
     "metadata": {},
     "output_type": "execute_result"
    }
   ],
   "source": [
    "dataset = pd.read_csv('pressao_succao_c2.csv', header=0, index_col=0)\n",
    "dataset.head(3)"
   ]
  },
  {
   "cell_type": "code",
   "execution_count": 3,
   "metadata": {},
   "outputs": [
    {
     "name": "stderr",
     "output_type": "stream",
     "text": [
      "C:\\Users\\camil\\AppData\\Local\\Programs\\Python\\Python39\\lib\\site-packages\\statsmodels\\graphics\\tsaplots.py:348: FutureWarning: The default method 'yw' can produce PACF values outside of the [-1,1] interval. After 0.13, the default will change tounadjusted Yule-Walker ('ywm'). You can use this method now by setting method='ywm'.\n",
      "  warnings.warn(\n"
     ]
    },
    {
     "data": {
      "image/png": "[encoded data removed]",
      "text/plain": [
       "<Figure size 432x288 with 1 Axes>"
      ]
     },
     "execution_count": 3,
     "metadata": {},
     "output_type": "execute_result"
    },
    {
     "data": {
      "image/png": "[encoded data removed]",
      "text/plain": [
       "<Figure size 432x288 with 1 Axes>"
      ]
     },
     "metadata": {
      "needs_background": "light"
     },
     "output_type": "display_data"
    },
    {
     "data": {
      "image/png": "[encoded data removed]",
      "text/plain": [
       "<Figure size 432x288 with 1 Axes>"
      ]
     },
     "metadata": {
      "needs_background": "light"
     },
     "output_type": "display_data"
    }
   ],
   "source": [
    "# Análise dos dados\n",
    "plot_acf(dataset)  # ACF\n",
    "plot_pacf(dataset) # PACF"
   ]
  },
  {
   "cell_type": "markdown",
   "metadata": {},
   "source": [
    "Separar dados de treinamento e teste"
   ]
  },
  {
   "cell_type": "code",
   "execution_count": 4,
   "metadata": {},
   "outputs": [
    {
     "data": {
      "text/plain": [
       "(13601, 1)"
      ]
     },
     "execution_count": 4,
     "metadata": {},
     "output_type": "execute_result"
    }
   ],
   "source": [
    "X = dataset.values\n",
    "ts_train_len = int(len(dataset)*0.66)\n",
    "ts_test_len = int(len(dataset)) - ts_train_len\n",
    "ts_train, ts_test = X[:ts_train_len], X[ts_train_len:]\n",
    "np.shape(ts_test)"
   ]
  },
  {
   "cell_type": "markdown",
   "metadata": {},
   "source": [
    "Normalização dos dados de treinamento"
   ]
  },
  {
   "cell_type": "code",
   "execution_count": 5,
   "metadata": {},
   "outputs": [
    {
     "data": {
      "text/plain": [
       "array([[0.00000000e+00],\n",
       "       [4.25324133e-06],\n",
       "       [9.94512629e-06],\n",
       "       ...,\n",
       "       [1.53305492e-05],\n",
       "       [1.54051884e-05],\n",
       "       [1.53502201e-05]])"
      ]
     },
     "execution_count": 5,
     "metadata": {},
     "output_type": "execute_result"
    }
   ],
   "source": [
    "from sklearn.preprocessing import MinMaxScaler\n",
    "sc = MinMaxScaler(feature_range=(0,1))\n",
    "ts_train_scaled = sc.fit_transform(ts_train)\n",
    "ts_train_scaled"
   ]
  },
  {
   "cell_type": "markdown",
   "metadata": {},
   "source": [
    "Criação do conjunto de treinamento de s amostras e t passos de tempo"
   ]
  },
  {
   "cell_type": "code",
   "execution_count": 6,
   "metadata": {},
   "outputs": [
    {
     "data": {
      "text/plain": [
       "(26394, 2)"
      ]
     },
     "execution_count": 6,
     "metadata": {},
     "output_type": "execute_result"
    }
   ],
   "source": [
    "X_train = []\n",
    "y_train = []\n",
    "y_train_stacked = []\n",
    "time_steps = 5\n",
    "for_periods = 2\n",
    "for i in range(time_steps, ts_train_len-1): \n",
    "        X_train.append(ts_train_scaled[i-time_steps:i,0])\n",
    "        y_train.append(ts_train_scaled[i:i+for_periods,0])\n",
    "X_train, y_train = np.array(X_train), np.array(y_train)\n",
    "np.shape(y_train)"
   ]
  },
  {
   "cell_type": "code",
   "execution_count": 74,
   "metadata": {},
   "outputs": [],
   "source": [
    "# Reshaping X_train para uma modelagem eficiente\n",
    "X_train = np.reshape(X_train, (X_train.shape[0],X_train.shape[1],1))"
   ]
  },
  {
   "cell_type": "markdown",
   "metadata": {},
   "source": [
    "Criação do X_test"
   ]
  },
  {
   "cell_type": "code",
   "execution_count": 8,
   "metadata": {},
   "outputs": [
    {
     "data": {
      "text/plain": [
       "(13599, 5, 1)"
      ]
     },
     "execution_count": 8,
     "metadata": {},
     "output_type": "execute_result"
    }
   ],
   "source": [
    "inputs = dataset.values\n",
    "inputs = inputs[len(inputs)-len(ts_test)-time_steps:]\n",
    "inputs = inputs.reshape(-1,1)\n",
    "inputs  = sc.transform(inputs)\n",
    "\n",
    "X_test = []\n",
    "for i in range(time_steps, ts_test_len+time_steps-for_periods):\n",
    "        X_test.append(inputs[i-time_steps:i,0])\n",
    "        \n",
    "X_test = np.array(X_test)\n",
    "X_test = np.reshape(X_test, (X_test.shape[0],X_test.shape[1],1))\n",
    "np.shape(X_test)"
   ]
  },
  {
   "cell_type": "markdown",
   "metadata": {},
   "source": [
    "Conversão da forma 3-D de X_train e y_train em um DataFrame"
   ]
  },
  {
   "cell_type": "code",
   "execution_count": 9,
   "metadata": {},
   "outputs": [
    {
     "data": {
      "text/html": [
       "<div>\n",
       "<style scoped>\n",
       "    .dataframe tbody tr th:only-of-type {\n",
       "        vertical-align: middle;\n",
       "    }\n",
       "\n",
       "    .dataframe tbody tr th {\n",
       "        vertical-align: top;\n",
       "    }\n",
       "\n",
       "    .dataframe thead th {\n",
       "        text-align: right;\n",
       "    }\n",
       "</style>\n",
       "<table border=\"1\" class=\"dataframe\">\n",
       "  <thead>\n",
       "    <tr style=\"text-align: right;\">\n",
       "      <th></th>\n",
       "      <th>0</th>\n",
       "      <th>1</th>\n",
       "      <th>2</th>\n",
       "      <th>3</th>\n",
       "      <th>4</th>\n",
       "      <th>0</th>\n",
       "      <th>1</th>\n",
       "    </tr>\n",
       "  </thead>\n",
       "  <tbody>\n",
       "    <tr>\n",
       "      <th>0</th>\n",
       "      <td>0.000000e+00</td>\n",
       "      <td>4.253241e-06</td>\n",
       "      <td>9.945126e-06</td>\n",
       "      <td>1.957901e-08</td>\n",
       "      <td>5.024084e-06</td>\n",
       "      <td>8.786931e-06</td>\n",
       "      <td>1.606398e-07</td>\n",
       "    </tr>\n",
       "    <tr>\n",
       "      <th>1</th>\n",
       "      <td>4.253241e-06</td>\n",
       "      <td>9.945126e-06</td>\n",
       "      <td>1.957901e-08</td>\n",
       "      <td>5.024084e-06</td>\n",
       "      <td>8.786931e-06</td>\n",
       "      <td>1.606398e-07</td>\n",
       "      <td>6.228056e-06</td>\n",
       "    </tr>\n",
       "    <tr>\n",
       "      <th>2</th>\n",
       "      <td>9.945126e-06</td>\n",
       "      <td>1.957901e-08</td>\n",
       "      <td>5.024084e-06</td>\n",
       "      <td>8.786931e-06</td>\n",
       "      <td>1.606398e-07</td>\n",
       "      <td>6.228056e-06</td>\n",
       "      <td>7.635538e-06</td>\n",
       "    </tr>\n",
       "    <tr>\n",
       "      <th>3</th>\n",
       "      <td>1.957901e-08</td>\n",
       "      <td>5.024084e-06</td>\n",
       "      <td>8.786931e-06</td>\n",
       "      <td>1.606398e-07</td>\n",
       "      <td>6.228056e-06</td>\n",
       "      <td>7.635538e-06</td>\n",
       "      <td>4.678556e-07</td>\n",
       "    </tr>\n",
       "    <tr>\n",
       "      <th>4</th>\n",
       "      <td>5.024084e-06</td>\n",
       "      <td>8.786931e-06</td>\n",
       "      <td>1.606398e-07</td>\n",
       "      <td>6.228056e-06</td>\n",
       "      <td>7.635538e-06</td>\n",
       "      <td>4.678556e-07</td>\n",
       "      <td>7.124830e-06</td>\n",
       "    </tr>\n",
       "    <tr>\n",
       "      <th>...</th>\n",
       "      <td>...</td>\n",
       "      <td>...</td>\n",
       "      <td>...</td>\n",
       "      <td>...</td>\n",
       "      <td>...</td>\n",
       "      <td>...</td>\n",
       "      <td>...</td>\n",
       "    </tr>\n",
       "    <tr>\n",
       "      <th>26389</th>\n",
       "      <td>1.538460e-05</td>\n",
       "      <td>1.537283e-05</td>\n",
       "      <td>1.530297e-05</td>\n",
       "      <td>1.539453e-05</td>\n",
       "      <td>1.536272e-05</td>\n",
       "      <td>1.531603e-05</td>\n",
       "      <td>1.540133e-05</td>\n",
       "    </tr>\n",
       "    <tr>\n",
       "      <th>26390</th>\n",
       "      <td>1.537283e-05</td>\n",
       "      <td>1.530297e-05</td>\n",
       "      <td>1.539453e-05</td>\n",
       "      <td>1.536272e-05</td>\n",
       "      <td>1.531603e-05</td>\n",
       "      <td>1.540133e-05</td>\n",
       "      <td>1.535500e-05</td>\n",
       "    </tr>\n",
       "    <tr>\n",
       "      <th>26391</th>\n",
       "      <td>1.530297e-05</td>\n",
       "      <td>1.539453e-05</td>\n",
       "      <td>1.536272e-05</td>\n",
       "      <td>1.531603e-05</td>\n",
       "      <td>1.540133e-05</td>\n",
       "      <td>1.535500e-05</td>\n",
       "      <td>1.533055e-05</td>\n",
       "    </tr>\n",
       "    <tr>\n",
       "      <th>26392</th>\n",
       "      <td>1.539453e-05</td>\n",
       "      <td>1.536272e-05</td>\n",
       "      <td>1.531603e-05</td>\n",
       "      <td>1.540133e-05</td>\n",
       "      <td>1.535500e-05</td>\n",
       "      <td>1.533055e-05</td>\n",
       "      <td>1.540519e-05</td>\n",
       "    </tr>\n",
       "    <tr>\n",
       "      <th>26393</th>\n",
       "      <td>1.536272e-05</td>\n",
       "      <td>1.531603e-05</td>\n",
       "      <td>1.540133e-05</td>\n",
       "      <td>1.535500e-05</td>\n",
       "      <td>1.533055e-05</td>\n",
       "      <td>1.540519e-05</td>\n",
       "      <td>1.535022e-05</td>\n",
       "    </tr>\n",
       "  </tbody>\n",
       "</table>\n",
       "<p>26394 rows × 7 columns</p>\n",
       "</div>"
      ],
      "text/plain": [
       "                  0             1             2             3             4  \\\n",
       "0      0.000000e+00  4.253241e-06  9.945126e-06  1.957901e-08  5.024084e-06   \n",
       "1      4.253241e-06  9.945126e-06  1.957901e-08  5.024084e-06  8.786931e-06   \n",
       "2      9.945126e-06  1.957901e-08  5.024084e-06  8.786931e-06  1.606398e-07   \n",
       "3      1.957901e-08  5.024084e-06  8.786931e-06  1.606398e-07  6.228056e-06   \n",
       "4      5.024084e-06  8.786931e-06  1.606398e-07  6.228056e-06  7.635538e-06   \n",
       "...             ...           ...           ...           ...           ...   \n",
       "26389  1.538460e-05  1.537283e-05  1.530297e-05  1.539453e-05  1.536272e-05   \n",
       "26390  1.537283e-05  1.530297e-05  1.539453e-05  1.536272e-05  1.531603e-05   \n",
       "26391  1.530297e-05  1.539453e-05  1.536272e-05  1.531603e-05  1.540133e-05   \n",
       "26392  1.539453e-05  1.536272e-05  1.531603e-05  1.540133e-05  1.535500e-05   \n",
       "26393  1.536272e-05  1.531603e-05  1.540133e-05  1.535500e-05  1.533055e-05   \n",
       "\n",
       "                  0             1  \n",
       "0      8.786931e-06  1.606398e-07  \n",
       "1      1.606398e-07  6.228056e-06  \n",
       "2      6.228056e-06  7.635538e-06  \n",
       "3      7.635538e-06  4.678556e-07  \n",
       "4      4.678556e-07  7.124830e-06  \n",
       "...             ...           ...  \n",
       "26389  1.531603e-05  1.540133e-05  \n",
       "26390  1.540133e-05  1.535500e-05  \n",
       "26391  1.535500e-05  1.533055e-05  \n",
       "26392  1.533055e-05  1.540519e-05  \n",
       "26393  1.540519e-05  1.535022e-05  \n",
       "\n",
       "[26394 rows x 7 columns]"
      ]
     },
     "execution_count": 9,
     "metadata": {},
     "output_type": "execute_result"
    }
   ],
   "source": [
    "X_train_see = pd.DataFrame(np.reshape(X_train, (X_train.shape[0],X_train.shape[1])))\n",
    "y_train_see = pd.DataFrame(y_train)\n",
    "pd.concat([X_train_see,y_train_see],axis=1)"
   ]
  },
  {
   "cell_type": "markdown",
   "metadata": {},
   "source": [
    "Conversão da forma 3-D de X_test em um DataFrame"
   ]
  },
  {
   "cell_type": "code",
   "execution_count": 10,
   "metadata": {},
   "outputs": [
    {
     "data": {
      "text/html": [
       "<div>\n",
       "<style scoped>\n",
       "    .dataframe tbody tr th:only-of-type {\n",
       "        vertical-align: middle;\n",
       "    }\n",
       "\n",
       "    .dataframe tbody tr th {\n",
       "        vertical-align: top;\n",
       "    }\n",
       "\n",
       "    .dataframe thead th {\n",
       "        text-align: right;\n",
       "    }\n",
       "</style>\n",
       "<table border=\"1\" class=\"dataframe\">\n",
       "  <thead>\n",
       "    <tr style=\"text-align: right;\">\n",
       "      <th></th>\n",
       "      <th>0</th>\n",
       "      <th>1</th>\n",
       "      <th>2</th>\n",
       "      <th>3</th>\n",
       "      <th>4</th>\n",
       "    </tr>\n",
       "  </thead>\n",
       "  <tbody>\n",
       "    <tr>\n",
       "      <th>0</th>\n",
       "      <td>0.000015</td>\n",
       "      <td>0.000015</td>\n",
       "      <td>0.000015</td>\n",
       "      <td>0.000015</td>\n",
       "      <td>0.000015</td>\n",
       "    </tr>\n",
       "    <tr>\n",
       "      <th>1</th>\n",
       "      <td>0.000015</td>\n",
       "      <td>0.000015</td>\n",
       "      <td>0.000015</td>\n",
       "      <td>0.000015</td>\n",
       "      <td>0.000014</td>\n",
       "    </tr>\n",
       "    <tr>\n",
       "      <th>2</th>\n",
       "      <td>0.000015</td>\n",
       "      <td>0.000015</td>\n",
       "      <td>0.000015</td>\n",
       "      <td>0.000014</td>\n",
       "      <td>0.000015</td>\n",
       "    </tr>\n",
       "    <tr>\n",
       "      <th>3</th>\n",
       "      <td>0.000015</td>\n",
       "      <td>0.000015</td>\n",
       "      <td>0.000014</td>\n",
       "      <td>0.000015</td>\n",
       "      <td>0.000015</td>\n",
       "    </tr>\n",
       "    <tr>\n",
       "      <th>4</th>\n",
       "      <td>0.000015</td>\n",
       "      <td>0.000014</td>\n",
       "      <td>0.000015</td>\n",
       "      <td>0.000015</td>\n",
       "      <td>0.000014</td>\n",
       "    </tr>\n",
       "    <tr>\n",
       "      <th>...</th>\n",
       "      <td>...</td>\n",
       "      <td>...</td>\n",
       "      <td>...</td>\n",
       "      <td>...</td>\n",
       "      <td>...</td>\n",
       "    </tr>\n",
       "    <tr>\n",
       "      <th>13594</th>\n",
       "      <td>0.279327</td>\n",
       "      <td>0.280062</td>\n",
       "      <td>0.279676</td>\n",
       "      <td>0.279603</td>\n",
       "      <td>0.280228</td>\n",
       "    </tr>\n",
       "    <tr>\n",
       "      <th>13595</th>\n",
       "      <td>0.280062</td>\n",
       "      <td>0.279676</td>\n",
       "      <td>0.279603</td>\n",
       "      <td>0.280228</td>\n",
       "      <td>0.279787</td>\n",
       "    </tr>\n",
       "    <tr>\n",
       "      <th>13596</th>\n",
       "      <td>0.279676</td>\n",
       "      <td>0.279603</td>\n",
       "      <td>0.280228</td>\n",
       "      <td>0.279787</td>\n",
       "      <td>0.279860</td>\n",
       "    </tr>\n",
       "    <tr>\n",
       "      <th>13597</th>\n",
       "      <td>0.279603</td>\n",
       "      <td>0.280228</td>\n",
       "      <td>0.279787</td>\n",
       "      <td>0.279860</td>\n",
       "      <td>0.280375</td>\n",
       "    </tr>\n",
       "    <tr>\n",
       "      <th>13598</th>\n",
       "      <td>0.280228</td>\n",
       "      <td>0.279787</td>\n",
       "      <td>0.279860</td>\n",
       "      <td>0.280375</td>\n",
       "      <td>0.279915</td>\n",
       "    </tr>\n",
       "  </tbody>\n",
       "</table>\n",
       "<p>13599 rows × 5 columns</p>\n",
       "</div>"
      ],
      "text/plain": [
       "              0         1         2         3         4\n",
       "0      0.000015  0.000015  0.000015  0.000015  0.000015\n",
       "1      0.000015  0.000015  0.000015  0.000015  0.000014\n",
       "2      0.000015  0.000015  0.000015  0.000014  0.000015\n",
       "3      0.000015  0.000015  0.000014  0.000015  0.000015\n",
       "4      0.000015  0.000014  0.000015  0.000015  0.000014\n",
       "...         ...       ...       ...       ...       ...\n",
       "13594  0.279327  0.280062  0.279676  0.279603  0.280228\n",
       "13595  0.280062  0.279676  0.279603  0.280228  0.279787\n",
       "13596  0.279676  0.279603  0.280228  0.279787  0.279860\n",
       "13597  0.279603  0.280228  0.279787  0.279860  0.280375\n",
       "13598  0.280228  0.279787  0.279860  0.280375  0.279915\n",
       "\n",
       "[13599 rows x 5 columns]"
      ]
     },
     "execution_count": 10,
     "metadata": {},
     "output_type": "execute_result"
    }
   ],
   "source": [
    "X_test_see = pd.DataFrame(np.reshape(X_test, (X_test.shape[0],X_test.shape[1])))\n",
    "pd.DataFrame(X_test_see)"
   ]
  },
  {
   "cell_type": "code",
   "execution_count": 11,
   "metadata": {},
   "outputs": [
    {
     "name": "stdout",
     "output_type": "stream",
     "text": [
      "There are 26394 samples in the training data\n",
      "There are 13599 samples in the test data\n"
     ]
    }
   ],
   "source": [
    "print(\"There are \" + str(X_train.shape[0]) + \" samples in the training data\")\n",
    "print(\"There are \" + str(X_test.shape[0]) + \" samples in the test data\")"
   ]
  },
  {
   "cell_type": "markdown",
   "metadata": {},
   "source": [
    "Criação do modelo RNN"
   ]
  },
  {
   "cell_type": "code",
   "execution_count": 12,
   "metadata": {},
   "outputs": [],
   "source": [
    "from keras.models import Sequential\n",
    "from keras.layers import Dense, SimpleRNN"
   ]
  },
  {
   "cell_type": "code",
   "execution_count": 13,
   "metadata": {},
   "outputs": [],
   "source": [
    "my_rnn_model = Sequential()\n",
    "my_rnn_model.add(SimpleRNN(30, return_sequences=True))\n",
    "my_rnn_model.add(SimpleRNN(30))\n",
    "my_rnn_model.add(Dense(2))\n",
    "my_rnn_model.compile(optimizer='rmsprop', loss='mean_squared_error')"
   ]
  },
  {
   "cell_type": "code",
   "execution_count": 14,
   "metadata": {},
   "outputs": [
    {
     "data": {
      "text/plain": [
       "<keras.callbacks.History at 0x28f56e08cd0>"
      ]
     },
     "execution_count": 14,
     "metadata": {},
     "output_type": "execute_result"
    }
   ],
   "source": [
    "# Ajustando o Modelo RNN\n",
    "my_rnn_model.fit(X_train, y_train, epochs=10, batch_size=500, verbose=0)"
   ]
  },
  {
   "cell_type": "code",
   "execution_count": 15,
   "metadata": {},
   "outputs": [
    {
     "data": {
      "text/plain": [
       "array([[0.02297737, 0.03009186],\n",
       "       [0.02297725, 0.03009173],\n",
       "       [0.02297713, 0.03009142],\n",
       "       ...,\n",
       "       [0.25560126, 0.25111914],\n",
       "       [0.25563315, 0.2512522 ],\n",
       "       [0.25575048, 0.2513717 ]], dtype=float32)"
      ]
     },
     "execution_count": 15,
     "metadata": {},
     "output_type": "execute_result"
    }
   ],
   "source": [
    "# Criando as predições\n",
    "rnn_predictions = my_rnn_model.predict(X_test)\n",
    "rnn_predictions"
   ]
  },
  {
   "cell_type": "code",
   "execution_count": 16,
   "metadata": {},
   "outputs": [
    {
     "data": {
      "text/html": [
       "<div>\n",
       "<style scoped>\n",
       "    .dataframe tbody tr th:only-of-type {\n",
       "        vertical-align: middle;\n",
       "    }\n",
       "\n",
       "    .dataframe tbody tr th {\n",
       "        vertical-align: top;\n",
       "    }\n",
       "\n",
       "    .dataframe thead th {\n",
       "        text-align: right;\n",
       "    }\n",
       "</style>\n",
       "<table border=\"1\" class=\"dataframe\">\n",
       "  <thead>\n",
       "    <tr style=\"text-align: right;\">\n",
       "      <th></th>\n",
       "      <th>Expected</th>\n",
       "      <th>Prediction</th>\n",
       "    </tr>\n",
       "  </thead>\n",
       "  <tbody>\n",
       "    <tr>\n",
       "      <th>0</th>\n",
       "      <td>0.000000e+00</td>\n",
       "      <td>0.022977</td>\n",
       "    </tr>\n",
       "    <tr>\n",
       "      <th>1</th>\n",
       "      <td>3.021654e-06</td>\n",
       "      <td>0.022977</td>\n",
       "    </tr>\n",
       "    <tr>\n",
       "      <th>2</th>\n",
       "      <td>3.109631e-06</td>\n",
       "      <td>0.022977</td>\n",
       "    </tr>\n",
       "    <tr>\n",
       "      <th>3</th>\n",
       "      <td>2.135226e-07</td>\n",
       "      <td>0.022977</td>\n",
       "    </tr>\n",
       "    <tr>\n",
       "      <th>4</th>\n",
       "      <td>3.326007e-06</td>\n",
       "      <td>0.022977</td>\n",
       "    </tr>\n",
       "    <tr>\n",
       "      <th>...</th>\n",
       "      <td>...</td>\n",
       "      <td>...</td>\n",
       "    </tr>\n",
       "    <tr>\n",
       "      <th>13594</th>\n",
       "      <td>7.237046e-01</td>\n",
       "      <td>0.255423</td>\n",
       "    </tr>\n",
       "    <tr>\n",
       "      <th>13595</th>\n",
       "      <td>7.238948e-01</td>\n",
       "      <td>0.255544</td>\n",
       "    </tr>\n",
       "    <tr>\n",
       "      <th>13596</th>\n",
       "      <td>7.252264e-01</td>\n",
       "      <td>0.255601</td>\n",
       "    </tr>\n",
       "    <tr>\n",
       "      <th>13597</th>\n",
       "      <td>7.240375e-01</td>\n",
       "      <td>0.255633</td>\n",
       "    </tr>\n",
       "    <tr>\n",
       "      <th>13598</th>\n",
       "      <td>7.246082e-01</td>\n",
       "      <td>0.255750</td>\n",
       "    </tr>\n",
       "  </tbody>\n",
       "</table>\n",
       "<p>13599 rows × 2 columns</p>\n",
       "</div>"
      ],
      "text/plain": [
       "           Expected  Prediction\n",
       "0      0.000000e+00    0.022977\n",
       "1      3.021654e-06    0.022977\n",
       "2      3.109631e-06    0.022977\n",
       "3      2.135226e-07    0.022977\n",
       "4      3.326007e-06    0.022977\n",
       "...             ...         ...\n",
       "13594  7.237046e-01    0.255423\n",
       "13595  7.238948e-01    0.255544\n",
       "13596  7.252264e-01    0.255601\n",
       "13597  7.240375e-01    0.255633\n",
       "13598  7.246082e-01    0.255750\n",
       "\n",
       "[13599 rows x 2 columns]"
      ]
     },
     "execution_count": 16,
     "metadata": {},
     "output_type": "execute_result"
    }
   ],
   "source": [
    "from sklearn.preprocessing import MinMaxScaler\n",
    "sc = MinMaxScaler(feature_range=(0,1))\n",
    "ts_test_scaled = sc.fit_transform(ts_test)\n",
    "\n",
    "actual_pred = pd.DataFrame(columns = ['Expected', 'Prediction'])\n",
    "actual_pred['Expected'] = ts_test_scaled[0:len(rnn_predictions),0]\n",
    "actual_pred['Prediction'] = rnn_predictions[:,0]\n",
    "actual_pred"
   ]
  },
  {
   "cell_type": "markdown",
   "metadata": {},
   "source": [
    "Avaliação das predições"
   ]
  },
  {
   "cell_type": "code",
   "execution_count": 17,
   "metadata": {},
   "outputs": [
    {
     "name": "stdout",
     "output_type": "stream",
     "text": [
      "Teste RMSE modelo RNN: 0.200\n"
     ]
    }
   ],
   "source": [
    "from keras.metrics import MeanSquaredError\n",
    "m = MeanSquaredError()\n",
    "m.update_state(np.array(actual_pred['Expected']),np.array(actual_pred['Prediction']))\n",
    "print('Teste RMSE modelo RNN: %.3f' % m.result().numpy())"
   ]
  },
  {
   "cell_type": "markdown",
   "metadata": {},
   "source": [
    "Gráfico dos resultados"
   ]
  },
  {
   "cell_type": "code",
   "execution_count": 18,
   "metadata": {},
   "outputs": [
    {
     "data": {
      "text/plain": [
       "Text(0.5, 1.0, 'MODELO RNN')"
      ]
     },
     "execution_count": 18,
     "metadata": {},
     "output_type": "execute_result"
    },
    {
     "data": {
      "image/png": "[encoded data removed]",
      "text/plain": [
       "<Figure size 1440x576 with 1 Axes>"
      ]
     },
     "metadata": {
      "needs_background": "light"
     },
     "output_type": "display_data"
    }
   ],
   "source": [
    "actual_pred['Expected'].plot(figsize=(20,8), legend=True, color='blue')\n",
    "actual_pred['Prediction'].plot(figsize=(20,8), legend=True, color='red')\n",
    "plt.title('MODELO RNN')"
   ]
  },
  {
   "cell_type": "markdown",
   "metadata": {},
   "source": [
    "### Modelo LSTM"
   ]
  },
  {
   "cell_type": "code",
   "execution_count": 19,
   "metadata": {},
   "outputs": [],
   "source": [
    "from keras.layers import LSTM, Dropout\n",
    "from tensorflow.keras.optimizers import SGD"
   ]
  },
  {
   "cell_type": "markdown",
   "metadata": {},
   "source": [
    "Criação do modelo"
   ]
  },
  {
   "cell_type": "code",
   "execution_count": 20,
   "metadata": {},
   "outputs": [],
   "source": [
    "# Arquitetura\n",
    "my_LSTM_model = Sequential()\n",
    "my_LSTM_model.add(LSTM(units=40, return_sequences=True, input_shape=(X_train.shape[1],1), activation='tanh'))\n",
    "my_LSTM_model.add(LSTM(units=40, activation='tanh'))\n",
    "my_LSTM_model.add(Dropout(0.2))\n",
    "my_LSTM_model.add(Dense(units=2))"
   ]
  },
  {
   "cell_type": "code",
   "execution_count": 21,
   "metadata": {},
   "outputs": [],
   "source": [
    "my_LSTM_model.compile(optimizer=SGD(learning_rate=0.01, decay=1e-7, momentum=0.9, nesterov=False), \n",
    " loss='mean_squared_error')"
   ]
  },
  {
   "cell_type": "code",
   "execution_count": 22,
   "metadata": {},
   "outputs": [
    {
     "data": {
      "text/plain": [
       "<keras.callbacks.History at 0x28f5a699d00>"
      ]
     },
     "execution_count": 22,
     "metadata": {},
     "output_type": "execute_result"
    }
   ],
   "source": [
    "# Ajustando o conjunto de dados para treinamento\n",
    "my_LSTM_model.fit(X_train, y_train, epochs=500, batch_size=1000, verbose=0)"
   ]
  },
  {
   "cell_type": "code",
   "execution_count": 23,
   "metadata": {},
   "outputs": [],
   "source": [
    "# Criando as predições\n",
    "LSTM_prediction = my_LSTM_model.predict(X_test)"
   ]
  },
  {
   "cell_type": "code",
   "execution_count": 24,
   "metadata": {},
   "outputs": [
    {
     "data": {
      "text/html": [
       "<div>\n",
       "<style scoped>\n",
       "    .dataframe tbody tr th:only-of-type {\n",
       "        vertical-align: middle;\n",
       "    }\n",
       "\n",
       "    .dataframe tbody tr th {\n",
       "        vertical-align: top;\n",
       "    }\n",
       "\n",
       "    .dataframe thead th {\n",
       "        text-align: right;\n",
       "    }\n",
       "</style>\n",
       "<table border=\"1\" class=\"dataframe\">\n",
       "  <thead>\n",
       "    <tr style=\"text-align: right;\">\n",
       "      <th></th>\n",
       "      <th>Expected</th>\n",
       "      <th>Prediction</th>\n",
       "    </tr>\n",
       "  </thead>\n",
       "  <tbody>\n",
       "    <tr>\n",
       "      <th>0</th>\n",
       "      <td>0.000000e+00</td>\n",
       "      <td>0.007143</td>\n",
       "    </tr>\n",
       "    <tr>\n",
       "      <th>1</th>\n",
       "      <td>3.021654e-06</td>\n",
       "      <td>0.007143</td>\n",
       "    </tr>\n",
       "    <tr>\n",
       "      <th>2</th>\n",
       "      <td>3.109631e-06</td>\n",
       "      <td>0.007143</td>\n",
       "    </tr>\n",
       "    <tr>\n",
       "      <th>3</th>\n",
       "      <td>2.135226e-07</td>\n",
       "      <td>0.007143</td>\n",
       "    </tr>\n",
       "    <tr>\n",
       "      <th>4</th>\n",
       "      <td>3.326007e-06</td>\n",
       "      <td>0.007143</td>\n",
       "    </tr>\n",
       "    <tr>\n",
       "      <th>...</th>\n",
       "      <td>...</td>\n",
       "      <td>...</td>\n",
       "    </tr>\n",
       "    <tr>\n",
       "      <th>13594</th>\n",
       "      <td>7.237046e-01</td>\n",
       "      <td>0.315371</td>\n",
       "    </tr>\n",
       "    <tr>\n",
       "      <th>13595</th>\n",
       "      <td>7.238948e-01</td>\n",
       "      <td>0.315628</td>\n",
       "    </tr>\n",
       "    <tr>\n",
       "      <th>13596</th>\n",
       "      <td>7.252264e-01</td>\n",
       "      <td>0.315531</td>\n",
       "    </tr>\n",
       "    <tr>\n",
       "      <th>13597</th>\n",
       "      <td>7.240375e-01</td>\n",
       "      <td>0.315711</td>\n",
       "    </tr>\n",
       "    <tr>\n",
       "      <th>13598</th>\n",
       "      <td>7.246082e-01</td>\n",
       "      <td>0.315911</td>\n",
       "    </tr>\n",
       "  </tbody>\n",
       "</table>\n",
       "<p>13599 rows × 2 columns</p>\n",
       "</div>"
      ],
      "text/plain": [
       "           Expected  Prediction\n",
       "0      0.000000e+00    0.007143\n",
       "1      3.021654e-06    0.007143\n",
       "2      3.109631e-06    0.007143\n",
       "3      2.135226e-07    0.007143\n",
       "4      3.326007e-06    0.007143\n",
       "...             ...         ...\n",
       "13594  7.237046e-01    0.315371\n",
       "13595  7.238948e-01    0.315628\n",
       "13596  7.252264e-01    0.315531\n",
       "13597  7.240375e-01    0.315711\n",
       "13598  7.246082e-01    0.315911\n",
       "\n",
       "[13599 rows x 2 columns]"
      ]
     },
     "execution_count": 24,
     "metadata": {},
     "output_type": "execute_result"
    }
   ],
   "source": [
    "actual_pred_lstm = pd.DataFrame(columns = ['Expected', 'Prediction'])\n",
    "actual_pred_lstm['Expected'] = ts_test_scaled[0:len(LSTM_prediction),0]\n",
    "actual_pred_lstm['Prediction'] = LSTM_prediction[:,0]\n",
    "actual_pred_lstm"
   ]
  },
  {
   "cell_type": "markdown",
   "metadata": {},
   "source": [
    "Avaliação das predições"
   ]
  },
  {
   "cell_type": "code",
   "execution_count": 25,
   "metadata": {},
   "outputs": [
    {
     "name": "stdout",
     "output_type": "stream",
     "text": [
      "Teste RMSE modelo LSTM: 0.168\n"
     ]
    }
   ],
   "source": [
    "m_lstm = MeanSquaredError()\n",
    "m_lstm.update_state(np.array(actual_pred_lstm['Expected']),np.array(actual_pred_lstm['Prediction']))\n",
    "print('Teste RMSE modelo LSTM: %.3f' % m_lstm.result().numpy())"
   ]
  },
  {
   "cell_type": "markdown",
   "metadata": {},
   "source": [
    "Gráfico dos resultados"
   ]
  },
  {
   "cell_type": "code",
   "execution_count": 26,
   "metadata": {},
   "outputs": [
    {
     "data": {
      "text/plain": [
       "Text(0.5, 1.0, 'MODELO LSTM')"
      ]
     },
     "execution_count": 26,
     "metadata": {},
     "output_type": "execute_result"
    },
    {
     "data": {
      "image/png": "[encoded data removed]",
      "text/plain": [
       "<Figure size 1440x576 with 1 Axes>"
      ]
     },
     "metadata": {
      "needs_background": "light"
     },
     "output_type": "display_data"
    }
   ],
   "source": [
    "actual_pred_lstm['Expected'].plot(figsize=(20,8), legend=True, color='blue')\n",
    "actual_pred_lstm['Prediction'].plot(figsize=(20,8), legend=True, color='red')\n",
    "plt.title('MODELO LSTM')"
   ]
  },
  {
   "cell_type": "markdown",
   "metadata": {},
   "source": [
    "### Modelo GRU"
   ]
  },
  {
   "cell_type": "code",
   "execution_count": 27,
   "metadata": {},
   "outputs": [],
   "source": [
    "from keras.layers import GRU"
   ]
  },
  {
   "cell_type": "markdown",
   "metadata": {},
   "source": [
    "Criação do modelo"
   ]
  },
  {
   "cell_type": "code",
   "execution_count": 67,
   "metadata": {},
   "outputs": [],
   "source": [
    "# Arquitetura\n",
    "my_GRU_model = Sequential()\n",
    "my_GRU_model.add(GRU(units=30, return_sequences=True, input_shape=(X_train.shape[1],1), activation='tanh'))\n",
    "my_GRU_model.add(GRU(units=30, activation='tanh'))\n",
    "my_GRU_model.add(Dense(units=2))"
   ]
  },
  {
   "cell_type": "code",
   "execution_count": 68,
   "metadata": {},
   "outputs": [],
   "source": [
    "my_GRU_model.compile(optimizer=SGD(learning_rate=0.01, decay=1e-7, momentum=0.9, nesterov=False),\n",
    " loss='mean_squared_error')"
   ]
  },
  {
   "cell_type": "code",
   "execution_count": 69,
   "metadata": {},
   "outputs": [
    {
     "data": {
      "text/plain": [
       "<keras.callbacks.History at 0x28f7b59d6d0>"
      ]
     },
     "execution_count": 69,
     "metadata": {},
     "output_type": "execute_result"
    }
   ],
   "source": [
    "# Ajustando o conjunto de dados para treinamento\n",
    "my_GRU_model.fit(X_train, y_train, epochs=50, batch_size=500, verbose=0)"
   ]
  },
  {
   "cell_type": "code",
   "execution_count": 70,
   "metadata": {},
   "outputs": [],
   "source": [
    "# Criando as predições\n",
    "GRU_prediction = my_GRU_model.predict(X_test)"
   ]
  },
  {
   "cell_type": "code",
   "execution_count": 71,
   "metadata": {},
   "outputs": [
    {
     "data": {
      "text/html": [
       "<div>\n",
       "<style scoped>\n",
       "    .dataframe tbody tr th:only-of-type {\n",
       "        vertical-align: middle;\n",
       "    }\n",
       "\n",
       "    .dataframe tbody tr th {\n",
       "        vertical-align: top;\n",
       "    }\n",
       "\n",
       "    .dataframe thead th {\n",
       "        text-align: right;\n",
       "    }\n",
       "</style>\n",
       "<table border=\"1\" class=\"dataframe\">\n",
       "  <thead>\n",
       "    <tr style=\"text-align: right;\">\n",
       "      <th></th>\n",
       "      <th>Expected</th>\n",
       "      <th>Prediction</th>\n",
       "    </tr>\n",
       "  </thead>\n",
       "  <tbody>\n",
       "    <tr>\n",
       "      <th>0</th>\n",
       "      <td>0.000000e+00</td>\n",
       "      <td>-0.011575</td>\n",
       "    </tr>\n",
       "    <tr>\n",
       "      <th>1</th>\n",
       "      <td>3.021654e-06</td>\n",
       "      <td>-0.011575</td>\n",
       "    </tr>\n",
       "    <tr>\n",
       "      <th>2</th>\n",
       "      <td>3.109631e-06</td>\n",
       "      <td>-0.011575</td>\n",
       "    </tr>\n",
       "    <tr>\n",
       "      <th>3</th>\n",
       "      <td>2.135226e-07</td>\n",
       "      <td>-0.011575</td>\n",
       "    </tr>\n",
       "    <tr>\n",
       "      <th>4</th>\n",
       "      <td>3.326007e-06</td>\n",
       "      <td>-0.011575</td>\n",
       "    </tr>\n",
       "    <tr>\n",
       "      <th>...</th>\n",
       "      <td>...</td>\n",
       "      <td>...</td>\n",
       "    </tr>\n",
       "    <tr>\n",
       "      <th>13594</th>\n",
       "      <td>7.237046e-01</td>\n",
       "      <td>0.355211</td>\n",
       "    </tr>\n",
       "    <tr>\n",
       "      <th>13595</th>\n",
       "      <td>7.238948e-01</td>\n",
       "      <td>0.355321</td>\n",
       "    </tr>\n",
       "    <tr>\n",
       "      <th>13596</th>\n",
       "      <td>7.252264e-01</td>\n",
       "      <td>0.355294</td>\n",
       "    </tr>\n",
       "    <tr>\n",
       "      <th>13597</th>\n",
       "      <td>7.240375e-01</td>\n",
       "      <td>0.355436</td>\n",
       "    </tr>\n",
       "    <tr>\n",
       "      <th>13598</th>\n",
       "      <td>7.246082e-01</td>\n",
       "      <td>0.355518</td>\n",
       "    </tr>\n",
       "  </tbody>\n",
       "</table>\n",
       "<p>13599 rows × 2 columns</p>\n",
       "</div>"
      ],
      "text/plain": [
       "           Expected  Prediction\n",
       "0      0.000000e+00   -0.011575\n",
       "1      3.021654e-06   -0.011575\n",
       "2      3.109631e-06   -0.011575\n",
       "3      2.135226e-07   -0.011575\n",
       "4      3.326007e-06   -0.011575\n",
       "...             ...         ...\n",
       "13594  7.237046e-01    0.355211\n",
       "13595  7.238948e-01    0.355321\n",
       "13596  7.252264e-01    0.355294\n",
       "13597  7.240375e-01    0.355436\n",
       "13598  7.246082e-01    0.355518\n",
       "\n",
       "[13599 rows x 2 columns]"
      ]
     },
     "execution_count": 71,
     "metadata": {},
     "output_type": "execute_result"
    }
   ],
   "source": [
    "actual_pred_gru = pd.DataFrame(columns = ['Expected', 'Prediction'])\n",
    "actual_pred_gru['Expected'] = ts_test_scaled[0:len(GRU_prediction),0]\n",
    "actual_pred_gru['Prediction'] = GRU_prediction[:,0]\n",
    "actual_pred_gru"
   ]
  },
  {
   "cell_type": "markdown",
   "metadata": {},
   "source": [
    "Avaliação das predições"
   ]
  },
  {
   "cell_type": "code",
   "execution_count": 72,
   "metadata": {},
   "outputs": [
    {
     "name": "stdout",
     "output_type": "stream",
     "text": [
      "Teste RMSE modelo GRU: 0.143\n"
     ]
    }
   ],
   "source": [
    "m_gru = MeanSquaredError()\n",
    "m_gru.update_state(np.array(actual_pred_gru['Expected']),np.array(actual_pred_gru['Prediction']))\n",
    "print('Teste RMSE modelo GRU: %.3f' % m_gru.result().numpy())"
   ]
  },
  {
   "cell_type": "markdown",
   "metadata": {},
   "source": [
    "Gráfico dos resultados"
   ]
  },
  {
   "cell_type": "code",
   "execution_count": 73,
   "metadata": {},
   "outputs": [
    {
     "data": {
      "text/plain": [
       "Text(0.5, 1.0, 'MODELO GRU')"
      ]
     },
     "execution_count": 73,
     "metadata": {},
     "output_type": "execute_result"
    },
    {
     "data": {
      "image/png": "[encoded data removed]",
      "text/plain": [
       "<Figure size 1440x576 with 1 Axes>"
      ]
     },
     "metadata": {
      "needs_background": "light"
     },
     "output_type": "display_data"
    }
   ],
   "source": [
    "actual_pred_gru['Expected'].plot(figsize=(20,8), legend=True, color='blue')\n",
    "actual_pred_gru['Prediction'].plot(figsize=(20,8), legend=True, color='red')\n",
    "plt.title('MODELO GRU')"
   ]
  }
 ],
 "metadata": {
  "interpreter": {
   "hash": "2c3187ed738de1786d314e6a543ff822a7395581778a2d07ac44faf833b8e454"
  },
  "kernelspec": {
   "display_name": "Python 3.9.6 64-bit",
   "language": "python",
   "name": "python3"
  },
  "language_info": {
   "codemirror_mode": {
    "name": "ipython",
    "version": 3
   },
   "file_extension": ".py",
   "mimetype": "text/x-python",
   "name": "python",
   "nbconvert_exporter": "python",
   "pygments_lexer": "ipython3",
   "version": "3.9.6"
  },
  "orig_nbformat": 4
 },
 "nbformat": 4,
 "nbformat_minor": 2
}
