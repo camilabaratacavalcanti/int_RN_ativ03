{
 "cells": [
  {
   "cell_type": "markdown",
   "metadata": {},
   "source": [
    "# Introdução a Redes Neurais\n",
    "## Atividade 03\n",
    "#### Desenvolver modelos para um sistema de compressão de unidade estacionárias de produção de petróleo\n",
    "##### Parte 04 - Comparação dos modelos"
   ]
  },
  {
   "cell_type": "markdown",
   "metadata": {},
   "source": [
    "Inicialmente os dados de entrada foram ordenados como medições diárias da pressão de sucção do sistema de compressão de unidade estacionárias de produção de petróleo. Eles foram ordenados diretamente no arquivo .csv, os quais: pressao_succao_c2.csv e pressao_vazao_succao_c2.csv"
   ]
  },
  {
   "cell_type": "markdown",
   "metadata": {},
   "source": [
    "#### Modelo de persistencia\n",
    "Inicialmente um modelo de persistencia foi desenvolvido, para servir de referencial comparativo entre os outros modelos, visto que ele é o mais simples entre os que serão testados.\n",
    "\n",
    "RMSE: 0.105\n",
    "\n",
    "![title](modelo_persistencia.png)\n"
   ]
  },
  {
   "cell_type": "markdown",
   "metadata": {},
   "source": [
    "#### Modelo de autoregressão\n",
    "RMSE: 0.126\n",
    "\n",
    "![title](modelo_autoregressao.png)\n"
   ]
  },
  {
   "cell_type": "markdown",
   "metadata": {},
   "source": [
    "#### Modelo ARIMA1\n",
    "RMSE: 0.211\n",
    "\n",
    "![title](modelo_arima1.png)"
   ]
  },
  {
   "cell_type": "markdown",
   "metadata": {},
   "source": [
    "#### Modelo ARIMA2\n",
    "RMSE: 0.433\n",
    "\n",
    "![title](modelo_arima2.png)"
   ]
  },
  {
   "cell_type": "markdown",
   "metadata": {},
   "source": [
    "A diferença entre o modelo ARIMA1 e o ARIMA2 está no fato de que na modelagem deste último foi utilizada uma ferramenta (pmdarima.auto_arima) para determinar autmaticamente a melhor configuração do modelo ARIMA, através da minimização do parâmetro AIC."
   ]
  },
  {
   "cell_type": "markdown",
   "metadata": {},
   "source": [
    "#### Modelo de SARIMAX\n",
    "RMSE: 0.037\n",
    "\n",
    "![title](modelo_sarimax.png)"
   ]
  },
  {
   "cell_type": "markdown",
   "metadata": {},
   "source": [
    "#### Modelo RNN\n",
    "RMSE: 0.200\n",
    "\n",
    "![title](modelo_rnn.png)"
   ]
  },
  {
   "cell_type": "markdown",
   "metadata": {},
   "source": [
    "#### Modelo LSTM\n",
    "RMSE: 0.168\n",
    "\n",
    "![title](modelo_lstm.png)"
   ]
  },
  {
   "cell_type": "markdown",
   "metadata": {},
   "source": [
    "#### Modelo GRU\n",
    "RMSE: 0.143\n",
    "\n",
    "![title](modelo_gru.png)"
   ]
  },
  {
   "cell_type": "markdown",
   "metadata": {},
   "source": [
    "Tomando como medida comparativa entre os modelos a raíz do erro médio quadrático (RMSE) entre os dados reais e as previsões de cada modelo, segue a Tabela 1 na qual os modelos foram classificados em ordem decrescente quanto ao RMSE:"
   ]
  },
  {
   "cell_type": "markdown",
   "metadata": {},
   "source": [
    "Tabela 1 - Comparativo entre os modelos.\n",
    "\n",
    "<table style=\"width:20%\">\n",
    "<tr>\n",
    "<th>Modelo</th>\n",
    "<th>RMSE</th>\n",
    "</tr>\n",
    "<tr>\n",
    "<td>Modelo SARIMAX</td>\n",
    "<td>0.037</td>\n",
    "</tr>\n",
    "<tr>\n",
    "<td>Modelo de persistencia</td>\n",
    "<td>0.105</td>\n",
    "</tr>\n",
    "<tr>\n",
    "<td>Modelo de autoregressão</td>\n",
    "<td>0.126</td>\n",
    "</tr>\n",
    "<tr>\n",
    "<td>Modelo GRU</td>\n",
    "<td>0.143</td>\n",
    "</tr>\n",
    "<tr>\n",
    "<td>Modelo LSTM</td>\n",
    "<td>0.168</td>\n",
    "</tr>\n",
    "<tr>\n",
    "<td>Modelo RNN</td>\n",
    "<td>0.200</td>\n",
    "</tr>\n",
    "<tr>\n",
    "<td>Modelo ARIMA1</td>\n",
    "<td>0.211</td>\n",
    "</tr>\n",
    "<tr>\n",
    "<td>Modelo ARIMA2</td>\n",
    "<td>0.433</td>\n",
    "</tr>\n",
    "</table>"
   ]
  },
  {
   "cell_type": "markdown",
   "metadata": {},
   "source": [
    "Para o conjunto de dados em entudo, o modelo SARIMAX, foi o que obteve o menor RMSE, o que indica um menor desvio entre os dados reais e as previsões geradas pelo modelo. Tal resultado foi alcançado através da utilização da ferramenta pmdarima.arima.auto_arima, que determina a melhor configuração do modelo a partir da minimização do parâmetro AIC. O modelo SARIMAX, além da caracteristica autoregressiva, integrada e média móvel, também utliza variáveis exógenas e leva em consideração a sazonalidade dos dados. A melhor configuração encontrada foi a SARIMAX(3, 1, 1), sendo decomposta em períodos anuais."
   ]
  },
  {
   "cell_type": "markdown",
   "metadata": {},
   "source": [
    "O modelo de persistencia ficando em segundo lugar indica que um modelo simplista pode ser eficiente na predição de modelo, pois considera o atraso de apenas um termo da série. Princípio fundamental para o desenvolvimento das redes neurais recorrentes.\n",
    "O modelo de autogressão reafirma o que foi observado anteriormente, que os dados do presente possuem elevada correlação com os dados do passado."
   ]
  },
  {
   "cell_type": "markdown",
   "metadata": {},
   "source": [
    "Entre os modelos que utilizam redes neurais, o que obteve melhor resultado foi o GRU (Gated Recurrent Unit). Neste modelo é feita uma ponderação dos valores dos estados ocultos (h) de acordo com o seu nível de importância. \n",
    "Em seguida o modelo LSTM (Long Short-Term Memory) segue o mesmo princípio do GRU, porém ele faz uma analogia com o cérebro humano e seus mecanismos de memória de curto e longo prazo para definir os pesos das ponderações dos dados. \n",
    "Já o modelo RNN (Recurrent Neural Network) foi o que obteve pior resultado entre os modelos de RN. Neste modelo todos os estados ocultos possuem mesmo peso, tal fato pode causar o fenômeno de explosão da rede neural, quando um estado oculto tende a infinito.\n",
    "Constatendo assim, que a ponderação os estados ocultos é fundamental para a obtenção de moelos mais representativos."
   ]
  },
  {
   "cell_type": "markdown",
   "metadata": {},
   "source": [
    "Os modelos ARIMA1 e ARIMA2 diferem apenas pelo método de determinação da configuração a ser utilizada. No ARIMA1 foi utilizada a regra empírica através do gráfico de autocorrelação e já a configuração do ARIMA2 foi determinada pela ferramenta pmdarima.auto_arima, através da minimização do parâmetro AIC. Devido ao longo tempo de execução do modelo ARIMA1 (mais de 24 horas) não foi possível testar diferentes configurações a fim de obter melhores resultados. O ARIMA 2 foi o que obteve pior desempenho entre todos os modelos estudados."
   ]
  },
  {
   "cell_type": "markdown",
   "metadata": {},
   "source": [
    "Por fim gostaria de considerar que o presente trabalho foi um instrumento para a introdução prática a este universo de conhecimento tão vasto que são as redes neurais. Outros parâmetros e análises mais profundas poderiam ser extraídas destes resultados, mas como primeiro contato teórico e prático nesta área encontro-me extremamente satisfeita e com desejo de aprofundar cada vez mais os conhecimentos. Grata pela oportunidade!"
   ]
  }
 ],
 "metadata": {
  "interpreter": {
   "hash": "2c3187ed738de1786d314e6a543ff822a7395581778a2d07ac44faf833b8e454"
  },
  "kernelspec": {
   "display_name": "Python 3.9.6 64-bit",
   "language": "python",
   "name": "python3"
  },
  "language_info": {
   "codemirror_mode": {
    "name": "ipython",
    "version": 3
   },
   "file_extension": ".py",
   "mimetype": "text/x-python",
   "name": "python",
   "nbconvert_exporter": "python",
   "pygments_lexer": "ipython3",
   "version": "3.9.6"
  },
  "orig_nbformat": 4
 },
 "nbformat": 4,
 "nbformat_minor": 2
}
