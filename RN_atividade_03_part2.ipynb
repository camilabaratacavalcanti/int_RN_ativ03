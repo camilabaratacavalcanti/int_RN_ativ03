{
 "cells": [
  {
   "cell_type": "markdown",
   "metadata": {},
   "source": [
    "# Introdução a Redes Neurais\n",
    "## Atividade 03\n",
    "#### Desenvolver modelos para um sistema de compressão de unidade estacionárias de produção de petróleo\n",
    "##### Parte 02"
   ]
  },
  {
   "cell_type": "markdown",
   "metadata": {},
   "source": [
    "Import das bibliotecas"
   ]
  },
  {
   "cell_type": "code",
   "execution_count": 48,
   "metadata": {},
   "outputs": [],
   "source": [
    "import numpy as np\n",
    "import pandas as pd\n",
    "import matplotlib.pyplot as plt "
   ]
  },
  {
   "cell_type": "markdown",
   "metadata": {},
   "source": [
    "### Modelo SARIMAX"
   ]
  },
  {
   "cell_type": "markdown",
   "metadata": {},
   "source": [
    "Conjunto de dados de pressão de sucção contida no arquivo pressao_vazao_succao_c2.csv:"
   ]
  },
  {
   "cell_type": "code",
   "execution_count": 49,
   "metadata": {},
   "outputs": [
    {
     "data": {
      "text/html": [
       "<div>\n",
       "<style scoped>\n",
       "    .dataframe tbody tr th:only-of-type {\n",
       "        vertical-align: middle;\n",
       "    }\n",
       "\n",
       "    .dataframe tbody tr th {\n",
       "        vertical-align: top;\n",
       "    }\n",
       "\n",
       "    .dataframe thead th {\n",
       "        text-align: right;\n",
       "    }\n",
       "</style>\n",
       "<table border=\"1\" class=\"dataframe\">\n",
       "  <thead>\n",
       "    <tr style=\"text-align: right;\">\n",
       "      <th></th>\n",
       "      <th>Data</th>\n",
       "      <th>Press</th>\n",
       "      <th>Vaz</th>\n",
       "    </tr>\n",
       "  </thead>\n",
       "  <tbody>\n",
       "    <tr>\n",
       "      <th>0</th>\n",
       "      <td>2000-01-01</td>\n",
       "      <td>0.014555</td>\n",
       "      <td>0.014555</td>\n",
       "    </tr>\n",
       "    <tr>\n",
       "      <th>1</th>\n",
       "      <td>2000-01-02</td>\n",
       "      <td>0.245910</td>\n",
       "      <td>-0.502960</td>\n",
       "    </tr>\n",
       "    <tr>\n",
       "      <th>2</th>\n",
       "      <td>2000-01-03</td>\n",
       "      <td>0.555520</td>\n",
       "      <td>0.387150</td>\n",
       "    </tr>\n",
       "  </tbody>\n",
       "</table>\n",
       "</div>"
      ],
      "text/plain": [
       "         Data     Press       Vaz\n",
       "0  2000-01-01  0.014555  0.014555\n",
       "1  2000-01-02  0.245910 -0.502960\n",
       "2  2000-01-03  0.555520  0.387150"
      ]
     },
     "execution_count": 49,
     "metadata": {},
     "output_type": "execute_result"
    }
   ],
   "source": [
    "dataset = pd.read_csv('pressao_vazao_succao_c2.csv')\n",
    "dataset.head(3)"
   ]
  },
  {
   "cell_type": "code",
   "execution_count": 50,
   "metadata": {},
   "outputs": [
    {
     "name": "stdout",
     "output_type": "stream",
     "text": [
      "<class 'pandas.core.frame.DataFrame'>\n",
      "RangeIndex: 40001 entries, 0 to 40000\n",
      "Data columns (total 3 columns):\n",
      " #   Column  Non-Null Count  Dtype  \n",
      "---  ------  --------------  -----  \n",
      " 0   Data    40001 non-null  object \n",
      " 1   Press   40001 non-null  float64\n",
      " 2   Vaz     40001 non-null  float64\n",
      "dtypes: float64(2), object(1)\n",
      "memory usage: 937.6+ KB\n"
     ]
    }
   ],
   "source": [
    "dataset.info()"
   ]
  },
  {
   "cell_type": "markdown",
   "metadata": {},
   "source": [
    "Como todas as colunas não apresentam dados nulos ou ausentes, então a etapa de eliminação de valores nulos não será necessária."
   ]
  },
  {
   "cell_type": "code",
   "execution_count": 51,
   "metadata": {},
   "outputs": [
    {
     "data": {
      "text/html": [
       "<div>\n",
       "<style scoped>\n",
       "    .dataframe tbody tr th:only-of-type {\n",
       "        vertical-align: middle;\n",
       "    }\n",
       "\n",
       "    .dataframe tbody tr th {\n",
       "        vertical-align: top;\n",
       "    }\n",
       "\n",
       "    .dataframe thead th {\n",
       "        text-align: right;\n",
       "    }\n",
       "</style>\n",
       "<table border=\"1\" class=\"dataframe\">\n",
       "  <thead>\n",
       "    <tr style=\"text-align: right;\">\n",
       "      <th></th>\n",
       "      <th>Data</th>\n",
       "      <th>Press</th>\n",
       "      <th>Vaz</th>\n",
       "      <th>Atual</th>\n",
       "    </tr>\n",
       "    <tr>\n",
       "      <th>Data</th>\n",
       "      <th></th>\n",
       "      <th></th>\n",
       "      <th></th>\n",
       "      <th></th>\n",
       "    </tr>\n",
       "  </thead>\n",
       "  <tbody>\n",
       "    <tr>\n",
       "      <th>2000-01-01</th>\n",
       "      <td>2000-01-01</td>\n",
       "      <td>0.014555</td>\n",
       "      <td>0.014555</td>\n",
       "      <td>0.24591</td>\n",
       "    </tr>\n",
       "    <tr>\n",
       "      <th>2000-01-02</th>\n",
       "      <td>2000-01-02</td>\n",
       "      <td>0.245910</td>\n",
       "      <td>-0.502960</td>\n",
       "      <td>0.55552</td>\n",
       "    </tr>\n",
       "    <tr>\n",
       "      <th>2000-01-03</th>\n",
       "      <td>2000-01-03</td>\n",
       "      <td>0.555520</td>\n",
       "      <td>0.387150</td>\n",
       "      <td>0.01562</td>\n",
       "    </tr>\n",
       "    <tr>\n",
       "      <th>2000-01-04</th>\n",
       "      <td>2000-01-04</td>\n",
       "      <td>0.015620</td>\n",
       "      <td>-0.164310</td>\n",
       "      <td>0.28784</td>\n",
       "    </tr>\n",
       "    <tr>\n",
       "      <th>2000-01-05</th>\n",
       "      <td>2000-01-05</td>\n",
       "      <td>0.287840</td>\n",
       "      <td>-0.421040</td>\n",
       "      <td>0.49252</td>\n",
       "    </tr>\n",
       "    <tr>\n",
       "      <th>...</th>\n",
       "      <td>...</td>\n",
       "      <td>...</td>\n",
       "      <td>...</td>\n",
       "      <td>...</td>\n",
       "    </tr>\n",
       "    <tr>\n",
       "      <th>2109-07-03</th>\n",
       "      <td>2109-07-03</td>\n",
       "      <td>15223.000000</td>\n",
       "      <td>-0.022208</td>\n",
       "      <td>15251.00000</td>\n",
       "    </tr>\n",
       "    <tr>\n",
       "      <th>2109-07-04</th>\n",
       "      <td>2109-07-04</td>\n",
       "      <td>15251.000000</td>\n",
       "      <td>-0.017206</td>\n",
       "      <td>15226.00000</td>\n",
       "    </tr>\n",
       "    <tr>\n",
       "      <th>2109-07-05</th>\n",
       "      <td>2109-07-05</td>\n",
       "      <td>15226.000000</td>\n",
       "      <td>-0.019092</td>\n",
       "      <td>15238.00000</td>\n",
       "    </tr>\n",
       "    <tr>\n",
       "      <th>2109-07-06</th>\n",
       "      <td>2109-07-06</td>\n",
       "      <td>15238.000000</td>\n",
       "      <td>-0.021637</td>\n",
       "      <td>15258.00000</td>\n",
       "    </tr>\n",
       "    <tr>\n",
       "      <th>2109-07-07</th>\n",
       "      <td>2109-07-07</td>\n",
       "      <td>15258.000000</td>\n",
       "      <td>-0.017012</td>\n",
       "      <td>15235.00000</td>\n",
       "    </tr>\n",
       "  </tbody>\n",
       "</table>\n",
       "<p>40000 rows × 4 columns</p>\n",
       "</div>"
      ],
      "text/plain": [
       "                 Data         Press       Vaz        Atual\n",
       "Data                                                      \n",
       "2000-01-01 2000-01-01      0.014555  0.014555      0.24591\n",
       "2000-01-02 2000-01-02      0.245910 -0.502960      0.55552\n",
       "2000-01-03 2000-01-03      0.555520  0.387150      0.01562\n",
       "2000-01-04 2000-01-04      0.015620 -0.164310      0.28784\n",
       "2000-01-05 2000-01-05      0.287840 -0.421040      0.49252\n",
       "...               ...           ...       ...          ...\n",
       "2109-07-03 2109-07-03  15223.000000 -0.022208  15251.00000\n",
       "2109-07-04 2109-07-04  15251.000000 -0.017206  15226.00000\n",
       "2109-07-05 2109-07-05  15226.000000 -0.019092  15238.00000\n",
       "2109-07-06 2109-07-06  15238.000000 -0.021637  15258.00000\n",
       "2109-07-07 2109-07-07  15258.000000 -0.017012  15235.00000\n",
       "\n",
       "[40000 rows x 4 columns]"
      ]
     },
     "execution_count": 51,
     "metadata": {},
     "output_type": "execute_result"
    }
   ],
   "source": [
    "# Criação de um conjunto de dados para a predição\n",
    "steps=-1\n",
    "dataset_for_prediction = dataset.copy()\n",
    "dataset_for_prediction['Atual'] = dataset_for_prediction['Press'].shift(steps)\n",
    "# Substituir o contador pelas respectivas datas\n",
    "dataset_for_prediction['Data'] = pd.to_datetime(dataset_for_prediction['Data'])\n",
    "dataset_for_prediction.index = dataset_for_prediction['Data']\n",
    "dataset_for_prediction.head(-1)"
   ]
  },
  {
   "cell_type": "markdown",
   "metadata": {},
   "source": [
    "Gráfico da variável objetivo da predição"
   ]
  },
  {
   "cell_type": "code",
   "execution_count": 52,
   "metadata": {},
   "outputs": [
    {
     "data": {
      "text/plain": [
       "Text(0.5, 1.0, 'Comportamento da pressão de sucção')"
      ]
     },
     "execution_count": 52,
     "metadata": {},
     "output_type": "execute_result"
    },
    {
     "data": {
      "image/png": "[encoded data removed]",
      "text/plain": [
       "<Figure size 1080x144 with 1 Axes>"
      ]
     },
     "metadata": {
      "needs_background": "light"
     },
     "output_type": "display_data"
    }
   ],
   "source": [
    "dataset_for_prediction['Press'].plot(figsize=(15,2), color='green')\n",
    "plt.legend(['Valor do dia seguinte', 'Press'])\n",
    "plt.title('Comportamento da pressão de sucção')"
   ]
  },
  {
   "cell_type": "markdown",
   "metadata": {},
   "source": [
    "Gráfico da variável exógena"
   ]
  },
  {
   "cell_type": "code",
   "execution_count": 53,
   "metadata": {},
   "outputs": [
    {
     "data": {
      "text/plain": [
       "Text(0.5, 1.0, 'Comportamento da vazão de sucção')"
      ]
     },
     "execution_count": 53,
     "metadata": {},
     "output_type": "execute_result"
    },
    {
     "data": {
      "image/png": "[encoded data removed]",
      "text/plain": [
       "<Figure size 1080x144 with 1 Axes>"
      ]
     },
     "metadata": {
      "needs_background": "light"
     },
     "output_type": "display_data"
    }
   ],
   "source": [
    "dataset_for_prediction['Vaz'].plot(figsize=(15,2), color='orange')\n",
    "plt.title('Comportamento da vazão de sucção')"
   ]
  },
  {
   "cell_type": "markdown",
   "metadata": {},
   "source": [
    "Normalização dos dados:"
   ]
  },
  {
   "cell_type": "code",
   "execution_count": 54,
   "metadata": {},
   "outputs": [],
   "source": [
    "from sklearn.preprocessing import MinMaxScaler\n",
    "# Das variáveis de entrada\n",
    "sc_in = MinMaxScaler(feature_range=(0, 1))\n",
    "scaled_input = sc_in.fit_transform(dataset_for_prediction[['Press', 'Vaz']])\n",
    "scaled_input = pd.DataFrame(scaled_input)\n",
    "X = scaled_input\n",
    "# Da variável de saída\n",
    "sc_out = MinMaxScaler(feature_range=(0, 1))\n",
    "scaler_output = sc_out.fit_transform(dataset_for_prediction[['Atual']])\n",
    "scaler_output =pd.DataFrame(scaler_output)\n",
    "y = scaler_output"
   ]
  },
  {
   "cell_type": "code",
   "execution_count": 55,
   "metadata": {},
   "outputs": [
    {
     "data": {
      "text/html": [
       "<div>\n",
       "<style scoped>\n",
       "    .dataframe tbody tr th:only-of-type {\n",
       "        vertical-align: middle;\n",
       "    }\n",
       "\n",
       "    .dataframe tbody tr th {\n",
       "        vertical-align: top;\n",
       "    }\n",
       "\n",
       "    .dataframe thead th {\n",
       "        text-align: right;\n",
       "    }\n",
       "</style>\n",
       "<table border=\"1\" class=\"dataframe\">\n",
       "  <thead>\n",
       "    <tr style=\"text-align: right;\">\n",
       "      <th></th>\n",
       "      <th>Press</th>\n",
       "      <th>Vaz</th>\n",
       "    </tr>\n",
       "  </thead>\n",
       "  <tbody>\n",
       "    <tr>\n",
       "      <th>0</th>\n",
       "      <td>0.000000</td>\n",
       "      <td>0.576252</td>\n",
       "    </tr>\n",
       "    <tr>\n",
       "      <th>1</th>\n",
       "      <td>0.000004</td>\n",
       "      <td>0.488881</td>\n",
       "    </tr>\n",
       "  </tbody>\n",
       "</table>\n",
       "</div>"
      ],
      "text/plain": [
       "      Press       Vaz\n",
       "0  0.000000  0.576252\n",
       "1  0.000004  0.488881"
      ]
     },
     "execution_count": 55,
     "metadata": {},
     "output_type": "execute_result"
    }
   ],
   "source": [
    "X.rename(columns={0:'Press', 1:'Vaz'}, inplace=True)\n",
    "X.head(2)"
   ]
  },
  {
   "cell_type": "code",
   "execution_count": 56,
   "metadata": {},
   "outputs": [
    {
     "data": {
      "text/html": [
       "<div>\n",
       "<style scoped>\n",
       "    .dataframe tbody tr th:only-of-type {\n",
       "        vertical-align: middle;\n",
       "    }\n",
       "\n",
       "    .dataframe tbody tr th {\n",
       "        vertical-align: top;\n",
       "    }\n",
       "\n",
       "    .dataframe thead th {\n",
       "        text-align: right;\n",
       "    }\n",
       "</style>\n",
       "<table border=\"1\" class=\"dataframe\">\n",
       "  <thead>\n",
       "    <tr style=\"text-align: right;\">\n",
       "      <th></th>\n",
       "      <th>Pressão de sucção do dia seguinte</th>\n",
       "    </tr>\n",
       "  </thead>\n",
       "  <tbody>\n",
       "    <tr>\n",
       "      <th>0</th>\n",
       "      <td>0.000004</td>\n",
       "    </tr>\n",
       "    <tr>\n",
       "      <th>1</th>\n",
       "      <td>0.000010</td>\n",
       "    </tr>\n",
       "  </tbody>\n",
       "</table>\n",
       "</div>"
      ],
      "text/plain": [
       "   Pressão de sucção do dia seguinte\n",
       "0                           0.000004\n",
       "1                           0.000010"
      ]
     },
     "execution_count": 56,
     "metadata": {},
     "output_type": "execute_result"
    }
   ],
   "source": [
    "y.rename(columns={0:'Pressão de sucção do dia seguinte'}, inplace= True)\n",
    "y.head(2)"
   ]
  },
  {
   "cell_type": "markdown",
   "metadata": {},
   "source": [
    "Separar dados de treinamento e teste"
   ]
  },
  {
   "cell_type": "code",
   "execution_count": null,
   "metadata": {},
   "outputs": [
    {
     "data": {
      "text/plain": [
       "26400"
      ]
     },
     "execution_count": 57,
     "metadata": {},
     "output_type": "execute_result"
    }
   ],
   "source": [
    "train_size = int(len(dataset)*0.66)\n",
    "test_size = int(len(dataset)) - train_size\n",
    "train_X, train_y = X[:train_size].dropna(), y[:train_size].dropna()\n",
    "test_X, test_y = X[train_size:].dropna(), y[train_size:].dropna()\n",
    "len(train_X)"
   ]
  },
  {
   "cell_type": "markdown",
   "metadata": {},
   "source": [
    "Decomposição da série"
   ]
  },
  {
   "cell_type": "code",
   "execution_count": 58,
   "metadata": {},
   "outputs": [
    {
     "data": {
      "image/png": "[encoded data removed]",
      "text/plain": [
       "<Figure size 1080x288 with 4 Axes>"
      ]
     },
     "metadata": {
      "needs_background": "light"
     },
     "output_type": "display_data"
    }
   ],
   "source": [
    "import statsmodels.api as sm\n",
    "seas_d = sm.tsa.seasonal_decompose(X['Press'], model='add', period=365)\n",
    "fig = seas_d.plot()\n",
    "fig.set_size_inches((15, 10))\n",
    "fig.set_figheight(4)\n",
    "plt.show()"
   ]
  },
  {
   "cell_type": "markdown",
   "metadata": {},
   "source": [
    "É possível observar que os dados não possuem tendência, porém apresenta sazonalidade com mesma frequência e amplitude constantes. Na parte residual nenhuma destas caracteristiacs foram observadas. Indicando caracterisica de aleatoriedade, ou seja, ruído branco."
   ]
  },
  {
   "cell_type": "markdown",
   "metadata": {},
   "source": [
    "Teste Dickey-Fuller Aumentado (ADF)"
   ]
  },
  {
   "cell_type": "code",
   "execution_count": 59,
   "metadata": {},
   "outputs": [
    {
     "name": "stdout",
     "output_type": "stream",
     "text": [
      "Strong evidence for  Null Hypothesis\n",
      "Accept Null Hypothesis - Data is not Stationary\n",
      "Data is NOT Stationary for  Stock Price\n"
     ]
    }
   ],
   "source": [
    "y_test = y['Pressão de sucção do dia seguinte'][:train_size].dropna()\n",
    "dfout = {}\n",
    "dftest = sm.tsa.adfuller(y_test.dropna(), autolag='AIC', regression='ct')\n",
    "for key,val in dftest[4].items():\n",
    "        dfout[f'critical value ({key})']=val\n",
    "if dftest[1]<=0.05:\n",
    "        print(\"Strong evidence against Null Hypothesis\")\n",
    "        print(\"Reject Null Hypothesis - Data is Stationary\")\n",
    "        print(\"Data is Stationary\", \" Stock Price\")\n",
    "else:\n",
    "        print(\"Strong evidence for  Null Hypothesis\")\n",
    "        print(\"Accept Null Hypothesis - Data is not Stationary\")\n",
    "        print(\"Data is NOT Stationary for\", \" Stock Price\")"
   ]
  },
  {
   "cell_type": "code",
   "execution_count": 60,
   "metadata": {},
   "outputs": [
    {
     "name": "stdout",
     "output_type": "stream",
     "text": [
      "Strong evidence against Null Hypothesis\n",
      "Reject Null Hypothesis - Data is Stationary\n",
      "Data is Stationary  Stock Price\n"
     ]
    }
   ],
   "source": [
    "dfout={}\n",
    "dftest=sm.tsa.adfuller(y_test.diff().dropna(), autolag='AIC', regression='ct')\n",
    "for key,val in dftest[4].items():\n",
    "        dfout[f'critical value ({key})']=val\n",
    "if dftest[1]<=0.05:\n",
    "        print(\"Strong evidence against Null Hypothesis\")\n",
    "        print(\"Reject Null Hypothesis - Data is Stationary\")\n",
    "        print(\"Data is Stationary\", \" Stock Price\")\n",
    "else:\n",
    "        print(\"Strong evidence for  Null Hypothesis\")\n",
    "        print(\"Accept Null Hypothesis - Data is not Stationary\")\n",
    "        print(\"Data is NOT Stationary for\", \" Stock Price\")"
   ]
  },
  {
   "cell_type": "markdown",
   "metadata": {},
   "source": [
    "Construção do modelo"
   ]
  },
  {
   "cell_type": "code",
   "execution_count": 61,
   "metadata": {},
   "outputs": [
    {
     "name": "stderr",
     "output_type": "stream",
     "text": [
      "C:\\Users\\camil\\AppData\\Local\\Programs\\Python\\Python39\\lib\\site-packages\\statsmodels\\graphics\\tsaplots.py:348: FutureWarning: The default method 'yw' can produce PACF values outside of the [-1,1] interval. After 0.13, the default will change tounadjusted Yule-Walker ('ywm'). You can use this method now by setting method='ywm'.\n",
      "  warnings.warn(\n"
     ]
    },
    {
     "data": {
      "image/png": "[encoded data removed]",
      "text/plain": [
       "<Figure size 720x360 with 2 Axes>"
      ]
     },
     "metadata": {
      "needs_background": "light"
     },
     "output_type": "display_data"
    }
   ],
   "source": [
    "# Análise do modelo\n",
    "fig,ax = plt.subplots(2,1, figsize=(10,5))\n",
    "fig = sm.tsa.graphics.plot_acf(y_test, lags=50, ax=ax[0])\n",
    "fig = sm.tsa.graphics.plot_pacf(y_test, lags=50, ax=ax[1])\n",
    "plt.show()"
   ]
  },
  {
   "cell_type": "markdown",
   "metadata": {},
   "source": []
  },
  {
   "cell_type": "code",
   "execution_count": 62,
   "metadata": {},
   "outputs": [
    {
     "name": "stdout",
     "output_type": "stream",
     "text": [
      "Performing stepwise search to minimize aic\n",
      " ARIMA(1,1,1)(0,0,0)[0] intercept   : AIC=-14086.033, Time=61.55 sec\n",
      " ARIMA(0,1,0)(0,0,0)[0] intercept   : AIC=-3684.896, Time=7.72 sec\n",
      " ARIMA(1,1,0)(0,0,0)[0] intercept   : AIC=-4968.196, Time=18.40 sec\n",
      " ARIMA(0,1,1)(0,0,0)[0] intercept   : AIC=-14083.011, Time=33.38 sec\n",
      " ARIMA(0,1,0)(0,0,0)[0]             : AIC=-3686.896, Time=19.82 sec\n",
      " ARIMA(2,1,1)(0,0,0)[0] intercept   : AIC=-14087.450, Time=68.32 sec\n",
      " ARIMA(2,1,0)(0,0,0)[0] intercept   : AIC=-8634.379, Time=32.35 sec\n",
      " ARIMA(3,1,1)(0,0,0)[0] intercept   : AIC=-14085.493, Time=82.15 sec\n",
      " ARIMA(2,1,2)(0,0,0)[0] intercept   : AIC=-14045.653, Time=53.77 sec\n",
      " ARIMA(1,1,2)(0,0,0)[0] intercept   : AIC=-14043.329, Time=69.58 sec\n",
      " ARIMA(3,1,0)(0,0,0)[0] intercept   : AIC=-9174.541, Time=45.55 sec\n",
      " ARIMA(3,1,2)(0,0,0)[0] intercept   : AIC=-13901.323, Time=69.04 sec\n",
      " ARIMA(2,1,1)(0,0,0)[0]             : AIC=-14122.272, Time=47.19 sec\n",
      " ARIMA(1,1,1)(0,0,0)[0]             : AIC=-14103.756, Time=32.15 sec\n",
      " ARIMA(2,1,0)(0,0,0)[0]             : AIC=-8636.379, Time=19.23 sec\n",
      " ARIMA(3,1,1)(0,0,0)[0]             : AIC=-14123.172, Time=71.15 sec\n",
      " ARIMA(3,1,0)(0,0,0)[0]             : AIC=-9176.541, Time=23.36 sec\n",
      " ARIMA(4,1,1)(0,0,0)[0]             : AIC=-14120.746, Time=92.88 sec\n",
      " ARIMA(3,1,2)(0,0,0)[0]             : AIC=-14116.115, Time=70.47 sec\n",
      " ARIMA(2,1,2)(0,0,0)[0]             : AIC=-14055.676, Time=73.95 sec\n",
      " ARIMA(4,1,0)(0,0,0)[0]             : AIC=-10431.537, Time=33.06 sec\n",
      " ARIMA(4,1,2)(0,0,0)[0]             : AIC=-14110.700, Time=105.00 sec\n",
      "\n",
      "Best model:  ARIMA(3,1,1)(0,0,0)[0]          \n",
      "Total fit time: 1130.142 seconds\n"
     ]
    }
   ],
   "source": [
    "# Determinação da melhor configuração para o modelo\n",
    "from pmdarima.arima import auto_arima\n",
    "\n",
    "step_wise = auto_arima(train_y, \n",
    " exogenous=train_X,\n",
    " start_p=1, start_q=1, \n",
    " max_p=7, max_q=7, \n",
    " d=1, max_d=7,\n",
    " trace=True, \n",
    " error_action='ignore', \n",
    " suppress_warnings=True, \n",
    " stepwise=True)"
   ]
  },
  {
   "cell_type": "code",
   "execution_count": 63,
   "metadata": {},
   "outputs": [
    {
     "data": {
      "text/html": [
       "<table class=\"simpletable\">\n",
       "<caption>SARIMAX Results</caption>\n",
       "<tr>\n",
       "  <th>Dep. Variable:</th>           <td>y</td>        <th>  No. Observations:  </th>    <td>26400</td>  \n",
       "</tr>\n",
       "<tr>\n",
       "  <th>Model:</th>           <td>SARIMAX(3, 1, 1)</td> <th>  Log Likelihood     </th>  <td>7068.586</td> \n",
       "</tr>\n",
       "<tr>\n",
       "  <th>Date:</th>            <td>Sat, 15 Jan 2022</td> <th>  AIC                </th> <td>-14123.172</td>\n",
       "</tr>\n",
       "<tr>\n",
       "  <th>Time:</th>                <td>21:42:18</td>     <th>  BIC                </th> <td>-14065.904</td>\n",
       "</tr>\n",
       "<tr>\n",
       "  <th>Sample:</th>                  <td>0</td>        <th>  HQIC               </th> <td>-14104.684</td>\n",
       "</tr>\n",
       "<tr>\n",
       "  <th></th>                     <td> - 26400</td>     <th>                     </th>      <td> </td>    \n",
       "</tr>\n",
       "<tr>\n",
       "  <th>Covariance Type:</th>        <td>opg</td>       <th>                     </th>      <td> </td>    \n",
       "</tr>\n",
       "</table>\n",
       "<table class=\"simpletable\">\n",
       "<tr>\n",
       "     <td></td>       <th>coef</th>     <th>std err</th>      <th>z</th>      <th>P>|z|</th>  <th>[0.025</th>    <th>0.975]</th>  \n",
       "</tr>\n",
       "<tr>\n",
       "  <th>Press</th>  <td>    0.2766</td> <td>    0.048</td> <td>    5.715</td> <td> 0.000</td> <td>    0.182</td> <td>    0.371</td>\n",
       "</tr>\n",
       "<tr>\n",
       "  <th>Vaz</th>    <td>   -0.9139</td> <td>    0.076</td> <td>  -12.058</td> <td> 0.000</td> <td>   -1.062</td> <td>   -0.765</td>\n",
       "</tr>\n",
       "<tr>\n",
       "  <th>ar.L1</th>  <td>   -0.2664</td> <td>    0.048</td> <td>   -5.512</td> <td> 0.000</td> <td>   -0.361</td> <td>   -0.172</td>\n",
       "</tr>\n",
       "<tr>\n",
       "  <th>ar.L2</th>  <td>   -0.0919</td> <td>    0.026</td> <td>   -3.512</td> <td> 0.000</td> <td>   -0.143</td> <td>   -0.041</td>\n",
       "</tr>\n",
       "<tr>\n",
       "  <th>ar.L3</th>  <td>   -0.0180</td> <td>    0.012</td> <td>   -1.566</td> <td> 0.117</td> <td>   -0.041</td> <td>    0.005</td>\n",
       "</tr>\n",
       "<tr>\n",
       "  <th>ma.L1</th>  <td>   -0.9794</td> <td>    0.001</td> <td> -809.119</td> <td> 0.000</td> <td>   -0.982</td> <td>   -0.977</td>\n",
       "</tr>\n",
       "<tr>\n",
       "  <th>sigma2</th> <td>    0.0343</td> <td>    0.000</td> <td>  288.900</td> <td> 0.000</td> <td>    0.034</td> <td>    0.035</td>\n",
       "</tr>\n",
       "</table>\n",
       "<table class=\"simpletable\">\n",
       "<tr>\n",
       "  <th>Ljung-Box (L1) (Q):</th>     <td>0.00</td>  <th>  Jarque-Bera (JB):  </th> <td>180624.12</td>\n",
       "</tr>\n",
       "<tr>\n",
       "  <th>Prob(Q):</th>                <td>0.98</td>  <th>  Prob(JB):          </th>   <td>0.00</td>   \n",
       "</tr>\n",
       "<tr>\n",
       "  <th>Heteroskedasticity (H):</th> <td>16.58</td> <th>  Skew:              </th>   <td>-3.40</td>  \n",
       "</tr>\n",
       "<tr>\n",
       "  <th>Prob(H) (two-sided):</th>    <td>0.00</td>  <th>  Kurtosis:          </th>   <td>13.86</td>  \n",
       "</tr>\n",
       "</table><br/><br/>Warnings:<br/>[1] Covariance matrix calculated using the outer product of gradients (complex-step)."
      ],
      "text/plain": [
       "<class 'statsmodels.iolib.summary.Summary'>\n",
       "\"\"\"\n",
       "                               SARIMAX Results                                \n",
       "==============================================================================\n",
       "Dep. Variable:                      y   No. Observations:                26400\n",
       "Model:               SARIMAX(3, 1, 1)   Log Likelihood                7068.586\n",
       "Date:                Sat, 15 Jan 2022   AIC                         -14123.172\n",
       "Time:                        21:42:18   BIC                         -14065.904\n",
       "Sample:                             0   HQIC                        -14104.684\n",
       "                              - 26400                                         \n",
       "Covariance Type:                  opg                                         \n",
       "==============================================================================\n",
       "                 coef    std err          z      P>|z|      [0.025      0.975]\n",
       "------------------------------------------------------------------------------\n",
       "Press          0.2766      0.048      5.715      0.000       0.182       0.371\n",
       "Vaz           -0.9139      0.076    -12.058      0.000      -1.062      -0.765\n",
       "ar.L1         -0.2664      0.048     -5.512      0.000      -0.361      -0.172\n",
       "ar.L2         -0.0919      0.026     -3.512      0.000      -0.143      -0.041\n",
       "ar.L3         -0.0180      0.012     -1.566      0.117      -0.041       0.005\n",
       "ma.L1         -0.9794      0.001   -809.119      0.000      -0.982      -0.977\n",
       "sigma2         0.0343      0.000    288.900      0.000       0.034       0.035\n",
       "===================================================================================\n",
       "Ljung-Box (L1) (Q):                   0.00   Jarque-Bera (JB):            180624.12\n",
       "Prob(Q):                              0.98   Prob(JB):                         0.00\n",
       "Heteroskedasticity (H):              16.58   Skew:                            -3.40\n",
       "Prob(H) (two-sided):                  0.00   Kurtosis:                        13.86\n",
       "===================================================================================\n",
       "\n",
       "Warnings:\n",
       "[1] Covariance matrix calculated using the outer product of gradients (complex-step).\n",
       "\"\"\""
      ]
     },
     "execution_count": 63,
     "metadata": {},
     "output_type": "execute_result"
    }
   ],
   "source": [
    "step_wise.summary()"
   ]
  },
  {
   "cell_type": "markdown",
   "metadata": {},
   "source": [
    "Treinamento do modelo"
   ]
  },
  {
   "cell_type": "code",
   "execution_count": 64,
   "metadata": {},
   "outputs": [],
   "source": [
    "from statsmodels.tsa.statespace.sarimax import SARIMAX\n",
    "\n",
    "model = SARIMAX(train_y, \n",
    " exog=train_X, \n",
    " order=(3,1,1), \n",
    " enforce_invertibility=False, \n",
    " enforce_stationarity=False)"
   ]
  },
  {
   "cell_type": "code",
   "execution_count": 65,
   "metadata": {},
   "outputs": [
    {
     "name": "stderr",
     "output_type": "stream",
     "text": [
      "C:\\Users\\camil\\AppData\\Local\\Programs\\Python\\Python39\\lib\\site-packages\\statsmodels\\base\\model.py:604: ConvergenceWarning: Maximum Likelihood optimization failed to converge. Check mle_retvals\n",
      "  warnings.warn(\"Maximum Likelihood optimization failed to \"\n"
     ]
    },
    {
     "data": {
      "text/plain": [
       "<statsmodels.tsa.statespace.sarimax.SARIMAXResultsWrapper at 0x2211ffc7a90>"
      ]
     },
     "execution_count": 65,
     "metadata": {},
     "output_type": "execute_result"
    }
   ],
   "source": [
    "# Ajustes do modelo\n",
    "results = model.fit()\n",
    "results"
   ]
  },
  {
   "cell_type": "markdown",
   "metadata": {},
   "source": [
    "Predição dos resultados"
   ]
  },
  {
   "cell_type": "code",
   "execution_count": 73,
   "metadata": {},
   "outputs": [
    {
     "data": {
      "text/plain": [
       "26400    0.011114\n",
       "26401    0.010635\n",
       "26402   -0.004593\n",
       "26403    0.013729\n",
       "26404    0.008011\n",
       "           ...   \n",
       "39995    0.080285\n",
       "39996    0.079642\n",
       "39997    0.079815\n",
       "39998    0.080268\n",
       "39999    0.079645\n",
       "Name: predicted_mean, Length: 13600, dtype: float64"
      ]
     },
     "execution_count": 73,
     "metadata": {},
     "output_type": "execute_result"
    }
   ],
   "source": [
    "predictions = results.predict(start=train_size, end=train_size+test_size+steps-1, exog=test_X[:-1])\n",
    "predictions"
   ]
  },
  {
   "cell_type": "code",
   "execution_count": 74,
   "metadata": {},
   "outputs": [
    {
     "data": {
      "text/plain": [
       "26400    0.011114\n",
       "26401    0.010635\n",
       "26402   -0.004593\n",
       "26403    0.013729\n",
       "26404    0.008011\n",
       "           ...   \n",
       "39995    0.080285\n",
       "39996    0.079642\n",
       "39997    0.079815\n",
       "39998    0.080268\n",
       "39999    0.079645\n",
       "Name: predicted_mean, Length: 13600, dtype: float64"
      ]
     },
     "execution_count": 74,
     "metadata": {},
     "output_type": "execute_result"
    }
   ],
   "source": [
    "forecast_1 = results.forecast(steps=test_size-1, exog=test_X[:-1])\n",
    "forecast_1"
   ]
  },
  {
   "cell_type": "code",
   "execution_count": 76,
   "metadata": {},
   "outputs": [
    {
     "data": {
      "text/html": [
       "<div>\n",
       "<style scoped>\n",
       "    .dataframe tbody tr th:only-of-type {\n",
       "        vertical-align: middle;\n",
       "    }\n",
       "\n",
       "    .dataframe tbody tr th {\n",
       "        vertical-align: top;\n",
       "    }\n",
       "\n",
       "    .dataframe thead th {\n",
       "        text-align: right;\n",
       "    }\n",
       "</style>\n",
       "<table border=\"1\" class=\"dataframe\">\n",
       "  <thead>\n",
       "    <tr style=\"text-align: right;\">\n",
       "      <th></th>\n",
       "      <th>Pressão de sucção do dia seguinte</th>\n",
       "    </tr>\n",
       "  </thead>\n",
       "  <tbody>\n",
       "    <tr>\n",
       "      <th>26400</th>\n",
       "      <td>0.000015</td>\n",
       "    </tr>\n",
       "    <tr>\n",
       "      <th>26401</th>\n",
       "      <td>0.000015</td>\n",
       "    </tr>\n",
       "    <tr>\n",
       "      <th>26402</th>\n",
       "      <td>0.000014</td>\n",
       "    </tr>\n",
       "    <tr>\n",
       "      <th>26403</th>\n",
       "      <td>0.000015</td>\n",
       "    </tr>\n",
       "    <tr>\n",
       "      <th>26404</th>\n",
       "      <td>0.000015</td>\n",
       "    </tr>\n",
       "    <tr>\n",
       "      <th>...</th>\n",
       "      <td>...</td>\n",
       "    </tr>\n",
       "    <tr>\n",
       "      <th>39995</th>\n",
       "      <td>0.280375</td>\n",
       "    </tr>\n",
       "    <tr>\n",
       "      <th>39996</th>\n",
       "      <td>0.279915</td>\n",
       "    </tr>\n",
       "    <tr>\n",
       "      <th>39997</th>\n",
       "      <td>0.280136</td>\n",
       "    </tr>\n",
       "    <tr>\n",
       "      <th>39998</th>\n",
       "      <td>0.280504</td>\n",
       "    </tr>\n",
       "    <tr>\n",
       "      <th>39999</th>\n",
       "      <td>0.280081</td>\n",
       "    </tr>\n",
       "  </tbody>\n",
       "</table>\n",
       "<p>13600 rows × 1 columns</p>\n",
       "</div>"
      ],
      "text/plain": [
       "       Pressão de sucção do dia seguinte\n",
       "26400                           0.000015\n",
       "26401                           0.000015\n",
       "26402                           0.000014\n",
       "26403                           0.000015\n",
       "26404                           0.000015\n",
       "...                                  ...\n",
       "39995                           0.280375\n",
       "39996                           0.279915\n",
       "39997                           0.280136\n",
       "39998                           0.280504\n",
       "39999                           0.280081\n",
       "\n",
       "[13600 rows x 1 columns]"
      ]
     },
     "execution_count": 76,
     "metadata": {},
     "output_type": "execute_result"
    }
   ],
   "source": [
    "act = pd.DataFrame(scaler_output.iloc[train_size:-1, 0])\n",
    "act"
   ]
  },
  {
   "cell_type": "code",
   "execution_count": 78,
   "metadata": {},
   "outputs": [
    {
     "data": {
      "text/html": [
       "<div>\n",
       "<style scoped>\n",
       "    .dataframe tbody tr th:only-of-type {\n",
       "        vertical-align: middle;\n",
       "    }\n",
       "\n",
       "    .dataframe tbody tr th {\n",
       "        vertical-align: top;\n",
       "    }\n",
       "\n",
       "    .dataframe thead th {\n",
       "        text-align: right;\n",
       "    }\n",
       "</style>\n",
       "<table border=\"1\" class=\"dataframe\">\n",
       "  <thead>\n",
       "    <tr style=\"text-align: right;\">\n",
       "      <th></th>\n",
       "      <th>predicted_mean</th>\n",
       "    </tr>\n",
       "  </thead>\n",
       "  <tbody>\n",
       "    <tr>\n",
       "      <th>26400</th>\n",
       "      <td>0.011114</td>\n",
       "    </tr>\n",
       "    <tr>\n",
       "      <th>26401</th>\n",
       "      <td>0.010635</td>\n",
       "    </tr>\n",
       "    <tr>\n",
       "      <th>26402</th>\n",
       "      <td>-0.004593</td>\n",
       "    </tr>\n",
       "    <tr>\n",
       "      <th>26403</th>\n",
       "      <td>0.013729</td>\n",
       "    </tr>\n",
       "    <tr>\n",
       "      <th>26404</th>\n",
       "      <td>0.008011</td>\n",
       "    </tr>\n",
       "    <tr>\n",
       "      <th>...</th>\n",
       "      <td>...</td>\n",
       "    </tr>\n",
       "    <tr>\n",
       "      <th>39995</th>\n",
       "      <td>0.080285</td>\n",
       "    </tr>\n",
       "    <tr>\n",
       "      <th>39996</th>\n",
       "      <td>0.079642</td>\n",
       "    </tr>\n",
       "    <tr>\n",
       "      <th>39997</th>\n",
       "      <td>0.079815</td>\n",
       "    </tr>\n",
       "    <tr>\n",
       "      <th>39998</th>\n",
       "      <td>0.080268</td>\n",
       "    </tr>\n",
       "    <tr>\n",
       "      <th>39999</th>\n",
       "      <td>0.079645</td>\n",
       "    </tr>\n",
       "  </tbody>\n",
       "</table>\n",
       "<p>13600 rows × 1 columns</p>\n",
       "</div>"
      ],
      "text/plain": [
       "       predicted_mean\n",
       "26400        0.011114\n",
       "26401        0.010635\n",
       "26402       -0.004593\n",
       "26403        0.013729\n",
       "26404        0.008011\n",
       "...               ...\n",
       "39995        0.080285\n",
       "39996        0.079642\n",
       "39997        0.079815\n",
       "39998        0.080268\n",
       "39999        0.079645\n",
       "\n",
       "[13600 rows x 1 columns]"
      ]
     },
     "execution_count": 78,
     "metadata": {},
     "output_type": "execute_result"
    }
   ],
   "source": [
    "predictions = pd.DataFrame(predictions)\n",
    "predictions.reset_index(drop=True, inplace=True)\n",
    "predictions.index = test_X[:-1].index\n",
    "predictions"
   ]
  },
  {
   "cell_type": "code",
   "execution_count": 79,
   "metadata": {},
   "outputs": [
    {
     "data": {
      "text/html": [
       "<div>\n",
       "<style scoped>\n",
       "    .dataframe tbody tr th:only-of-type {\n",
       "        vertical-align: middle;\n",
       "    }\n",
       "\n",
       "    .dataframe tbody tr th {\n",
       "        vertical-align: top;\n",
       "    }\n",
       "\n",
       "    .dataframe thead th {\n",
       "        text-align: right;\n",
       "    }\n",
       "</style>\n",
       "<table border=\"1\" class=\"dataframe\">\n",
       "  <thead>\n",
       "    <tr style=\"text-align: right;\">\n",
       "      <th></th>\n",
       "      <th>predicted_mean</th>\n",
       "      <th>Atual</th>\n",
       "    </tr>\n",
       "  </thead>\n",
       "  <tbody>\n",
       "    <tr>\n",
       "      <th>26400</th>\n",
       "      <td>0.011114</td>\n",
       "      <td>0.000015</td>\n",
       "    </tr>\n",
       "    <tr>\n",
       "      <th>26401</th>\n",
       "      <td>0.010635</td>\n",
       "      <td>0.000015</td>\n",
       "    </tr>\n",
       "    <tr>\n",
       "      <th>26402</th>\n",
       "      <td>-0.004593</td>\n",
       "      <td>0.000014</td>\n",
       "    </tr>\n",
       "    <tr>\n",
       "      <th>26403</th>\n",
       "      <td>0.013729</td>\n",
       "      <td>0.000015</td>\n",
       "    </tr>\n",
       "    <tr>\n",
       "      <th>26404</th>\n",
       "      <td>0.008011</td>\n",
       "      <td>0.000015</td>\n",
       "    </tr>\n",
       "    <tr>\n",
       "      <th>...</th>\n",
       "      <td>...</td>\n",
       "      <td>...</td>\n",
       "    </tr>\n",
       "    <tr>\n",
       "      <th>39995</th>\n",
       "      <td>0.080285</td>\n",
       "      <td>0.280375</td>\n",
       "    </tr>\n",
       "    <tr>\n",
       "      <th>39996</th>\n",
       "      <td>0.079642</td>\n",
       "      <td>0.279915</td>\n",
       "    </tr>\n",
       "    <tr>\n",
       "      <th>39997</th>\n",
       "      <td>0.079815</td>\n",
       "      <td>0.280136</td>\n",
       "    </tr>\n",
       "    <tr>\n",
       "      <th>39998</th>\n",
       "      <td>0.080268</td>\n",
       "      <td>0.280504</td>\n",
       "    </tr>\n",
       "    <tr>\n",
       "      <th>39999</th>\n",
       "      <td>0.079645</td>\n",
       "      <td>0.280081</td>\n",
       "    </tr>\n",
       "  </tbody>\n",
       "</table>\n",
       "<p>13600 rows × 2 columns</p>\n",
       "</div>"
      ],
      "text/plain": [
       "       predicted_mean     Atual\n",
       "26400        0.011114  0.000015\n",
       "26401        0.010635  0.000015\n",
       "26402       -0.004593  0.000014\n",
       "26403        0.013729  0.000015\n",
       "26404        0.008011  0.000015\n",
       "...               ...       ...\n",
       "39995        0.080285  0.280375\n",
       "39996        0.079642  0.279915\n",
       "39997        0.079815  0.280136\n",
       "39998        0.080268  0.280504\n",
       "39999        0.079645  0.280081\n",
       "\n",
       "[13600 rows x 2 columns]"
      ]
     },
     "execution_count": 79,
     "metadata": {},
     "output_type": "execute_result"
    }
   ],
   "source": [
    "predictions['Atual'] = act['Pressão de sucção do dia seguinte']\n",
    "predictions.rename(columns={0:'Pred'}, inplace=True)\n",
    "predictions"
   ]
  },
  {
   "cell_type": "markdown",
   "metadata": {},
   "source": [
    "Avaliação das predições"
   ]
  },
  {
   "cell_type": "code",
   "execution_count": 80,
   "metadata": {},
   "outputs": [
    {
     "name": "stdout",
     "output_type": "stream",
     "text": [
      "Teste RMSE modelo SARIMAX: 0.037\n"
     ]
    }
   ],
   "source": [
    "from keras.metrics import MeanSquaredError\n",
    "m = MeanSquaredError()\n",
    "m.update_state(np.array(predictions['Atual']),np.array(predictions['predicted_mean']))\n",
    "print('Teste RMSE modelo SARIMAX: %.3f' % m.result().numpy())"
   ]
  },
  {
   "cell_type": "markdown",
   "metadata": {},
   "source": [
    "Gráfico dos resultados"
   ]
  },
  {
   "cell_type": "code",
   "execution_count": 81,
   "metadata": {},
   "outputs": [
    {
     "data": {
      "text/plain": [
       "Text(0.5, 1.0, 'MODELO SARIMAX')"
      ]
     },
     "execution_count": 81,
     "metadata": {},
     "output_type": "execute_result"
    },
    {
     "data": {
      "image/png": "[encoded data removed]",
      "text/plain": [
       "<Figure size 1440x576 with 1 Axes>"
      ]
     },
     "metadata": {
      "needs_background": "light"
     },
     "output_type": "display_data"
    }
   ],
   "source": [
    "predictions['Atual'].plot(figsize=(20,8), legend=True, color='blue')\n",
    "predictions['predicted_mean'].plot(figsize=(20,8), legend=True, color='red')\n",
    "plt.title('MODELO SARIMAX')"
   ]
  }
 ],
 "metadata": {
  "interpreter": {
   "hash": "2c3187ed738de1786d314e6a543ff822a7395581778a2d07ac44faf833b8e454"
  },
  "kernelspec": {
   "display_name": "Python 3.9.6 64-bit",
   "language": "python",
   "name": "python3"
  },
  "language_info": {
   "codemirror_mode": {
    "name": "ipython",
    "version": 3
   },
   "file_extension": ".py",
   "mimetype": "text/x-python",
   "name": "python",
   "nbconvert_exporter": "python",
   "pygments_lexer": "ipython3",
   "version": "3.9.6"
  },
  "orig_nbformat": 4
 },
 "nbformat": 4,
 "nbformat_minor": 2
}
